{
 "cells": [
  {
   "cell_type": "markdown",
   "id": "0040730b",
   "metadata": {},
   "source": [
    "**Lab | Customer Analysis Round 2.**"
   ]
  },
  {
   "cell_type": "code",
   "execution_count": 2,
   "id": "d81aa132",
   "metadata": {},
   "outputs": [],
   "source": [
    "import pandas as pd\n",
    "import numpy as np"
   ]
  },
  {
   "cell_type": "code",
   "execution_count": 3,
   "id": "7f578ff3",
   "metadata": {},
   "outputs": [
    {
     "data": {
      "text/html": [
       "<div>\n",
       "<style scoped>\n",
       "    .dataframe tbody tr th:only-of-type {\n",
       "        vertical-align: middle;\n",
       "    }\n",
       "\n",
       "    .dataframe tbody tr th {\n",
       "        vertical-align: top;\n",
       "    }\n",
       "\n",
       "    .dataframe thead th {\n",
       "        text-align: right;\n",
       "    }\n",
       "</style>\n",
       "<table border=\"1\" class=\"dataframe\">\n",
       "  <thead>\n",
       "    <tr style=\"text-align: right;\">\n",
       "      <th></th>\n",
       "      <th>Unnamed: 0</th>\n",
       "      <th>Customer</th>\n",
       "      <th>State</th>\n",
       "      <th>Customer Lifetime Value</th>\n",
       "      <th>Response</th>\n",
       "      <th>Coverage</th>\n",
       "      <th>Education</th>\n",
       "      <th>Effective To Date</th>\n",
       "      <th>EmploymentStatus</th>\n",
       "      <th>Gender</th>\n",
       "      <th>...</th>\n",
       "      <th>Number of Open Complaints</th>\n",
       "      <th>Number of Policies</th>\n",
       "      <th>Policy Type</th>\n",
       "      <th>Policy</th>\n",
       "      <th>Renew Offer Type</th>\n",
       "      <th>Sales Channel</th>\n",
       "      <th>Total Claim Amount</th>\n",
       "      <th>Vehicle Class</th>\n",
       "      <th>Vehicle Size</th>\n",
       "      <th>Vehicle Type</th>\n",
       "    </tr>\n",
       "  </thead>\n",
       "  <tbody>\n",
       "    <tr>\n",
       "      <th>0</th>\n",
       "      <td>0</td>\n",
       "      <td>DK49336</td>\n",
       "      <td>Arizona</td>\n",
       "      <td>4809.216960</td>\n",
       "      <td>No</td>\n",
       "      <td>Basic</td>\n",
       "      <td>College</td>\n",
       "      <td>2/18/11</td>\n",
       "      <td>Employed</td>\n",
       "      <td>M</td>\n",
       "      <td>...</td>\n",
       "      <td>0.0</td>\n",
       "      <td>9</td>\n",
       "      <td>Corporate Auto</td>\n",
       "      <td>Corporate L3</td>\n",
       "      <td>Offer3</td>\n",
       "      <td>Agent</td>\n",
       "      <td>292.800000</td>\n",
       "      <td>Four-Door Car</td>\n",
       "      <td>Medsize</td>\n",
       "      <td>NaN</td>\n",
       "    </tr>\n",
       "    <tr>\n",
       "      <th>1</th>\n",
       "      <td>1</td>\n",
       "      <td>KX64629</td>\n",
       "      <td>California</td>\n",
       "      <td>2228.525238</td>\n",
       "      <td>No</td>\n",
       "      <td>Basic</td>\n",
       "      <td>College</td>\n",
       "      <td>1/18/11</td>\n",
       "      <td>Unemployed</td>\n",
       "      <td>F</td>\n",
       "      <td>...</td>\n",
       "      <td>0.0</td>\n",
       "      <td>1</td>\n",
       "      <td>Personal Auto</td>\n",
       "      <td>Personal L3</td>\n",
       "      <td>Offer4</td>\n",
       "      <td>Call Center</td>\n",
       "      <td>744.924331</td>\n",
       "      <td>Four-Door Car</td>\n",
       "      <td>Medsize</td>\n",
       "      <td>NaN</td>\n",
       "    </tr>\n",
       "    <tr>\n",
       "      <th>2</th>\n",
       "      <td>2</td>\n",
       "      <td>LZ68649</td>\n",
       "      <td>Washington</td>\n",
       "      <td>14947.917300</td>\n",
       "      <td>No</td>\n",
       "      <td>Basic</td>\n",
       "      <td>Bachelor</td>\n",
       "      <td>2/10/11</td>\n",
       "      <td>Employed</td>\n",
       "      <td>M</td>\n",
       "      <td>...</td>\n",
       "      <td>0.0</td>\n",
       "      <td>2</td>\n",
       "      <td>Personal Auto</td>\n",
       "      <td>Personal L3</td>\n",
       "      <td>Offer3</td>\n",
       "      <td>Call Center</td>\n",
       "      <td>480.000000</td>\n",
       "      <td>SUV</td>\n",
       "      <td>Medsize</td>\n",
       "      <td>A</td>\n",
       "    </tr>\n",
       "    <tr>\n",
       "      <th>3</th>\n",
       "      <td>3</td>\n",
       "      <td>XL78013</td>\n",
       "      <td>Oregon</td>\n",
       "      <td>22332.439460</td>\n",
       "      <td>Yes</td>\n",
       "      <td>Extended</td>\n",
       "      <td>College</td>\n",
       "      <td>1/11/11</td>\n",
       "      <td>Employed</td>\n",
       "      <td>M</td>\n",
       "      <td>...</td>\n",
       "      <td>0.0</td>\n",
       "      <td>2</td>\n",
       "      <td>Corporate Auto</td>\n",
       "      <td>Corporate L3</td>\n",
       "      <td>Offer2</td>\n",
       "      <td>Branch</td>\n",
       "      <td>484.013411</td>\n",
       "      <td>Four-Door Car</td>\n",
       "      <td>Medsize</td>\n",
       "      <td>A</td>\n",
       "    </tr>\n",
       "    <tr>\n",
       "      <th>4</th>\n",
       "      <td>4</td>\n",
       "      <td>QA50777</td>\n",
       "      <td>Oregon</td>\n",
       "      <td>9025.067525</td>\n",
       "      <td>No</td>\n",
       "      <td>Premium</td>\n",
       "      <td>Bachelor</td>\n",
       "      <td>1/17/11</td>\n",
       "      <td>Medical Leave</td>\n",
       "      <td>F</td>\n",
       "      <td>...</td>\n",
       "      <td>NaN</td>\n",
       "      <td>7</td>\n",
       "      <td>Personal Auto</td>\n",
       "      <td>Personal L2</td>\n",
       "      <td>Offer1</td>\n",
       "      <td>Branch</td>\n",
       "      <td>707.925645</td>\n",
       "      <td>Four-Door Car</td>\n",
       "      <td>Medsize</td>\n",
       "      <td>NaN</td>\n",
       "    </tr>\n",
       "  </tbody>\n",
       "</table>\n",
       "<p>5 rows × 26 columns</p>\n",
       "</div>"
      ],
      "text/plain": [
       "   Unnamed: 0 Customer       State  Customer Lifetime Value Response  \\\n",
       "0           0  DK49336     Arizona              4809.216960       No   \n",
       "1           1  KX64629  California              2228.525238       No   \n",
       "2           2  LZ68649  Washington             14947.917300       No   \n",
       "3           3  XL78013      Oregon             22332.439460      Yes   \n",
       "4           4  QA50777      Oregon              9025.067525       No   \n",
       "\n",
       "   Coverage Education Effective To Date EmploymentStatus Gender  ...  \\\n",
       "0     Basic   College           2/18/11         Employed      M  ...   \n",
       "1     Basic   College           1/18/11       Unemployed      F  ...   \n",
       "2     Basic  Bachelor           2/10/11         Employed      M  ...   \n",
       "3  Extended   College           1/11/11         Employed      M  ...   \n",
       "4   Premium  Bachelor           1/17/11    Medical Leave      F  ...   \n",
       "\n",
       "   Number of Open Complaints Number of Policies     Policy Type        Policy  \\\n",
       "0                        0.0                  9  Corporate Auto  Corporate L3   \n",
       "1                        0.0                  1   Personal Auto   Personal L3   \n",
       "2                        0.0                  2   Personal Auto   Personal L3   \n",
       "3                        0.0                  2  Corporate Auto  Corporate L3   \n",
       "4                        NaN                  7   Personal Auto   Personal L2   \n",
       "\n",
       "   Renew Offer Type  Sales Channel  Total Claim Amount  Vehicle Class  \\\n",
       "0            Offer3          Agent          292.800000  Four-Door Car   \n",
       "1            Offer4    Call Center          744.924331  Four-Door Car   \n",
       "2            Offer3    Call Center          480.000000            SUV   \n",
       "3            Offer2         Branch          484.013411  Four-Door Car   \n",
       "4            Offer1         Branch          707.925645  Four-Door Car   \n",
       "\n",
       "  Vehicle Size Vehicle Type  \n",
       "0      Medsize          NaN  \n",
       "1      Medsize          NaN  \n",
       "2      Medsize            A  \n",
       "3      Medsize            A  \n",
       "4      Medsize          NaN  \n",
       "\n",
       "[5 rows x 26 columns]"
      ]
     },
     "metadata": {},
     "output_type": "display_data"
    },
    {
     "data": {
      "text/plain": [
       "(10910, 26)"
      ]
     },
     "execution_count": 3,
     "metadata": {},
     "output_type": "execute_result"
    }
   ],
   "source": [
    "# Show the dataframe shape.\n",
    "file1= pd.read_csv(\"marketing_customer_analysis.csv\")\n",
    "display(file1.head())\n",
    "file1.shape"
   ]
  },
  {
   "cell_type": "code",
   "execution_count": 4,
   "id": "50c07eee",
   "metadata": {},
   "outputs": [
    {
     "data": {
      "text/html": [
       "<div>\n",
       "<style scoped>\n",
       "    .dataframe tbody tr th:only-of-type {\n",
       "        vertical-align: middle;\n",
       "    }\n",
       "\n",
       "    .dataframe tbody tr th {\n",
       "        vertical-align: top;\n",
       "    }\n",
       "\n",
       "    .dataframe thead th {\n",
       "        text-align: right;\n",
       "    }\n",
       "</style>\n",
       "<table border=\"1\" class=\"dataframe\">\n",
       "  <thead>\n",
       "    <tr style=\"text-align: right;\">\n",
       "      <th></th>\n",
       "      <th>Customer</th>\n",
       "      <th>State</th>\n",
       "      <th>Customer Lifetime Value</th>\n",
       "      <th>Response</th>\n",
       "      <th>Coverage</th>\n",
       "      <th>Education</th>\n",
       "      <th>Effective To Date</th>\n",
       "      <th>EmploymentStatus</th>\n",
       "      <th>Gender</th>\n",
       "      <th>Income</th>\n",
       "      <th>...</th>\n",
       "      <th>Number of Open Complaints</th>\n",
       "      <th>Number of Policies</th>\n",
       "      <th>Policy Type</th>\n",
       "      <th>Policy</th>\n",
       "      <th>Renew Offer Type</th>\n",
       "      <th>Sales Channel</th>\n",
       "      <th>Total Claim Amount</th>\n",
       "      <th>Vehicle Class</th>\n",
       "      <th>Vehicle Size</th>\n",
       "      <th>Vehicle Type</th>\n",
       "    </tr>\n",
       "  </thead>\n",
       "  <tbody>\n",
       "    <tr>\n",
       "      <th>0</th>\n",
       "      <td>DK49336</td>\n",
       "      <td>Arizona</td>\n",
       "      <td>4809.216960</td>\n",
       "      <td>No</td>\n",
       "      <td>Basic</td>\n",
       "      <td>College</td>\n",
       "      <td>2/18/11</td>\n",
       "      <td>Employed</td>\n",
       "      <td>M</td>\n",
       "      <td>48029</td>\n",
       "      <td>...</td>\n",
       "      <td>0.0</td>\n",
       "      <td>9</td>\n",
       "      <td>Corporate Auto</td>\n",
       "      <td>Corporate L3</td>\n",
       "      <td>Offer3</td>\n",
       "      <td>Agent</td>\n",
       "      <td>292.800000</td>\n",
       "      <td>Four-Door Car</td>\n",
       "      <td>Medsize</td>\n",
       "      <td>NaN</td>\n",
       "    </tr>\n",
       "    <tr>\n",
       "      <th>1</th>\n",
       "      <td>KX64629</td>\n",
       "      <td>California</td>\n",
       "      <td>2228.525238</td>\n",
       "      <td>No</td>\n",
       "      <td>Basic</td>\n",
       "      <td>College</td>\n",
       "      <td>1/18/11</td>\n",
       "      <td>Unemployed</td>\n",
       "      <td>F</td>\n",
       "      <td>0</td>\n",
       "      <td>...</td>\n",
       "      <td>0.0</td>\n",
       "      <td>1</td>\n",
       "      <td>Personal Auto</td>\n",
       "      <td>Personal L3</td>\n",
       "      <td>Offer4</td>\n",
       "      <td>Call Center</td>\n",
       "      <td>744.924331</td>\n",
       "      <td>Four-Door Car</td>\n",
       "      <td>Medsize</td>\n",
       "      <td>NaN</td>\n",
       "    </tr>\n",
       "    <tr>\n",
       "      <th>2</th>\n",
       "      <td>LZ68649</td>\n",
       "      <td>Washington</td>\n",
       "      <td>14947.917300</td>\n",
       "      <td>No</td>\n",
       "      <td>Basic</td>\n",
       "      <td>Bachelor</td>\n",
       "      <td>2/10/11</td>\n",
       "      <td>Employed</td>\n",
       "      <td>M</td>\n",
       "      <td>22139</td>\n",
       "      <td>...</td>\n",
       "      <td>0.0</td>\n",
       "      <td>2</td>\n",
       "      <td>Personal Auto</td>\n",
       "      <td>Personal L3</td>\n",
       "      <td>Offer3</td>\n",
       "      <td>Call Center</td>\n",
       "      <td>480.000000</td>\n",
       "      <td>SUV</td>\n",
       "      <td>Medsize</td>\n",
       "      <td>A</td>\n",
       "    </tr>\n",
       "    <tr>\n",
       "      <th>3</th>\n",
       "      <td>XL78013</td>\n",
       "      <td>Oregon</td>\n",
       "      <td>22332.439460</td>\n",
       "      <td>Yes</td>\n",
       "      <td>Extended</td>\n",
       "      <td>College</td>\n",
       "      <td>1/11/11</td>\n",
       "      <td>Employed</td>\n",
       "      <td>M</td>\n",
       "      <td>49078</td>\n",
       "      <td>...</td>\n",
       "      <td>0.0</td>\n",
       "      <td>2</td>\n",
       "      <td>Corporate Auto</td>\n",
       "      <td>Corporate L3</td>\n",
       "      <td>Offer2</td>\n",
       "      <td>Branch</td>\n",
       "      <td>484.013411</td>\n",
       "      <td>Four-Door Car</td>\n",
       "      <td>Medsize</td>\n",
       "      <td>A</td>\n",
       "    </tr>\n",
       "    <tr>\n",
       "      <th>4</th>\n",
       "      <td>QA50777</td>\n",
       "      <td>Oregon</td>\n",
       "      <td>9025.067525</td>\n",
       "      <td>No</td>\n",
       "      <td>Premium</td>\n",
       "      <td>Bachelor</td>\n",
       "      <td>1/17/11</td>\n",
       "      <td>Medical Leave</td>\n",
       "      <td>F</td>\n",
       "      <td>23675</td>\n",
       "      <td>...</td>\n",
       "      <td>NaN</td>\n",
       "      <td>7</td>\n",
       "      <td>Personal Auto</td>\n",
       "      <td>Personal L2</td>\n",
       "      <td>Offer1</td>\n",
       "      <td>Branch</td>\n",
       "      <td>707.925645</td>\n",
       "      <td>Four-Door Car</td>\n",
       "      <td>Medsize</td>\n",
       "      <td>NaN</td>\n",
       "    </tr>\n",
       "  </tbody>\n",
       "</table>\n",
       "<p>5 rows × 25 columns</p>\n",
       "</div>"
      ],
      "text/plain": [
       "  Customer       State  Customer Lifetime Value Response  Coverage Education  \\\n",
       "0  DK49336     Arizona              4809.216960       No     Basic   College   \n",
       "1  KX64629  California              2228.525238       No     Basic   College   \n",
       "2  LZ68649  Washington             14947.917300       No     Basic  Bachelor   \n",
       "3  XL78013      Oregon             22332.439460      Yes  Extended   College   \n",
       "4  QA50777      Oregon              9025.067525       No   Premium  Bachelor   \n",
       "\n",
       "  Effective To Date EmploymentStatus Gender  Income  ...  \\\n",
       "0           2/18/11         Employed      M   48029  ...   \n",
       "1           1/18/11       Unemployed      F       0  ...   \n",
       "2           2/10/11         Employed      M   22139  ...   \n",
       "3           1/11/11         Employed      M   49078  ...   \n",
       "4           1/17/11    Medical Leave      F   23675  ...   \n",
       "\n",
       "  Number of Open Complaints Number of Policies     Policy Type        Policy  \\\n",
       "0                       0.0                  9  Corporate Auto  Corporate L3   \n",
       "1                       0.0                  1   Personal Auto   Personal L3   \n",
       "2                       0.0                  2   Personal Auto   Personal L3   \n",
       "3                       0.0                  2  Corporate Auto  Corporate L3   \n",
       "4                       NaN                  7   Personal Auto   Personal L2   \n",
       "\n",
       "   Renew Offer Type  Sales Channel  Total Claim Amount  Vehicle Class  \\\n",
       "0            Offer3          Agent          292.800000  Four-Door Car   \n",
       "1            Offer4    Call Center          744.924331  Four-Door Car   \n",
       "2            Offer3    Call Center          480.000000            SUV   \n",
       "3            Offer2         Branch          484.013411  Four-Door Car   \n",
       "4            Offer1         Branch          707.925645  Four-Door Car   \n",
       "\n",
       "  Vehicle Size Vehicle Type  \n",
       "0      Medsize          NaN  \n",
       "1      Medsize          NaN  \n",
       "2      Medsize            A  \n",
       "3      Medsize            A  \n",
       "4      Medsize          NaN  \n",
       "\n",
       "[5 rows x 25 columns]"
      ]
     },
     "execution_count": 4,
     "metadata": {},
     "output_type": "execute_result"
    }
   ],
   "source": [
    "#Standardize header names.\n",
    "file1 = file1.drop(['Unnamed: 0'], axis=1)\n",
    "file1.head()"
   ]
  },
  {
   "cell_type": "code",
   "execution_count": 5,
   "id": "6a5ea678",
   "metadata": {},
   "outputs": [
    {
     "data": {
      "text/plain": [
       "Index(['Customer', 'State', 'Customer Lifetime Value', 'Response', 'Coverage',\n",
       "       'Education', 'Effective To Date', 'EmploymentStatus', 'Gender',\n",
       "       'Income', 'Location Code', 'Marital Status', 'Monthly Premium Auto',\n",
       "       'Months Since Last Claim', 'Months Since Policy Inception',\n",
       "       'Number of Open Complaints', 'Number of Policies', 'Policy Type',\n",
       "       'Policy', 'Renew Offer Type', 'Sales Channel', 'Total Claim Amount',\n",
       "       'Vehicle Class', 'Vehicle Size', 'Vehicle Type'],\n",
       "      dtype='object')"
      ]
     },
     "execution_count": 5,
     "metadata": {},
     "output_type": "execute_result"
    }
   ],
   "source": [
    "file1.columns"
   ]
  },
  {
   "cell_type": "code",
   "execution_count": 6,
   "id": "0f262af9",
   "metadata": {},
   "outputs": [
    {
     "data": {
      "text/plain": [
       "Index(['customer', 'state', 'customer lifetime value', 'response', 'coverage',\n",
       "       'education', 'effective to date', 'employmentstatus', 'gender',\n",
       "       'income', 'location code', 'marital status', 'monthly premium auto',\n",
       "       'months since last claim', 'months since policy inception',\n",
       "       'number of open complaints', 'number of policies', 'policy type',\n",
       "       'policy', 'renew offer type', 'sales channel', 'total claim amount',\n",
       "       'vehicle class', 'vehicle size', 'vehicle type'],\n",
       "      dtype='object')"
      ]
     },
     "execution_count": 6,
     "metadata": {},
     "output_type": "execute_result"
    }
   ],
   "source": [
    "cols = []\n",
    "for c in file1.columns:\n",
    "    cols.append(c.lower())\n",
    "cols\n",
    "file1.columns = cols\n",
    "file1.columns"
   ]
  },
  {
   "cell_type": "code",
   "execution_count": 7,
   "id": "4c802e00",
   "metadata": {},
   "outputs": [
    {
     "data": {
      "text/plain": [
       "customer                          object\n",
       "state                             object\n",
       "customer lifetime value          float64\n",
       "response                          object\n",
       "coverage                          object\n",
       "education                         object\n",
       "effective to date                 object\n",
       "employmentstatus                  object\n",
       "gender                            object\n",
       "income                             int64\n",
       "location code                     object\n",
       "marital status                    object\n",
       "monthly premium auto               int64\n",
       "months since last claim          float64\n",
       "months since policy inception      int64\n",
       "number of open complaints        float64\n",
       "number of policies                 int64\n",
       "policy type                       object\n",
       "policy                            object\n",
       "renew offer type                  object\n",
       "sales channel                     object\n",
       "total claim amount               float64\n",
       "vehicle class                     object\n",
       "vehicle size                      object\n",
       "vehicle type                      object\n",
       "dtype: object"
      ]
     },
     "execution_count": 7,
     "metadata": {},
     "output_type": "execute_result"
    }
   ],
   "source": [
    "file1.dtypes"
   ]
  },
  {
   "cell_type": "code",
   "execution_count": 8,
   "id": "5eafcee6",
   "metadata": {},
   "outputs": [
    {
     "data": {
      "text/plain": [
       "['customer lifetime value',\n",
       " 'income',\n",
       " 'monthly premium auto',\n",
       " 'months since last claim',\n",
       " 'months since policy inception',\n",
       " 'number of open complaints',\n",
       " 'number of policies',\n",
       " 'total claim amount']"
      ]
     },
     "execution_count": 8,
     "metadata": {},
     "output_type": "execute_result"
    }
   ],
   "source": [
    "#Which columns are numerical?\n",
    "numerical = file1.select_dtypes(include=['int', 'float']).columns.tolist()\n",
    "numerical"
   ]
  },
  {
   "cell_type": "code",
   "execution_count": 9,
   "id": "ce051fb3",
   "metadata": {},
   "outputs": [
    {
     "data": {
      "text/plain": [
       "['customer',\n",
       " 'state',\n",
       " 'response',\n",
       " 'coverage',\n",
       " 'education',\n",
       " 'effective to date',\n",
       " 'employmentstatus',\n",
       " 'gender',\n",
       " 'location code',\n",
       " 'marital status',\n",
       " 'policy type',\n",
       " 'policy',\n",
       " 'renew offer type',\n",
       " 'sales channel',\n",
       " 'vehicle class',\n",
       " 'vehicle size',\n",
       " 'vehicle type']"
      ]
     },
     "execution_count": 9,
     "metadata": {},
     "output_type": "execute_result"
    }
   ],
   "source": [
    "# Which columns are categorical?\n",
    "categoricals = file1.select_dtypes(include=['object']).columns.tolist()\n",
    "categoricals"
   ]
  },
  {
   "cell_type": "code",
   "execution_count": 10,
   "id": "eeec24f5",
   "metadata": {},
   "outputs": [
    {
     "data": {
      "text/plain": [
       "customer                            0\n",
       "state                             631\n",
       "customer lifetime value             0\n",
       "response                          631\n",
       "coverage                            0\n",
       "education                           0\n",
       "effective to date                   0\n",
       "employmentstatus                    0\n",
       "gender                              0\n",
       "income                              0\n",
       "location code                       0\n",
       "marital status                      0\n",
       "monthly premium auto                0\n",
       "months since last claim           633\n",
       "months since policy inception       0\n",
       "number of open complaints         633\n",
       "number of policies                  0\n",
       "policy type                         0\n",
       "policy                              0\n",
       "renew offer type                    0\n",
       "sales channel                       0\n",
       "total claim amount                  0\n",
       "vehicle class                     622\n",
       "vehicle size                      622\n",
       "vehicle type                     5482\n",
       "dtype: int64"
      ]
     },
     "execution_count": 10,
     "metadata": {},
     "output_type": "execute_result"
    }
   ],
   "source": [
    "# Check and deal with NaN values.\n",
    "file1.isna().sum()"
   ]
  },
  {
   "cell_type": "code",
   "execution_count": 11,
   "id": "bc1705d6",
   "metadata": {},
   "outputs": [
    {
     "data": {
      "text/plain": [
       "California    3552\n",
       "Oregon        2909\n",
       "Arizona       1937\n",
       "Nevada         993\n",
       "Washington     888\n",
       "NaN            631\n",
       "Name: state, dtype: int64"
      ]
     },
     "execution_count": 11,
     "metadata": {},
     "output_type": "execute_result"
    }
   ],
   "source": [
    "file1[\"state\"]. value_counts(dropna=False)"
   ]
  },
  {
   "cell_type": "code",
   "execution_count": 12,
   "id": "761dfca1",
   "metadata": {},
   "outputs": [
    {
     "data": {
      "text/plain": [
       "California    4183\n",
       "Oregon        2909\n",
       "Arizona       1937\n",
       "Nevada         993\n",
       "Washington     888\n",
       "Name: state, dtype: int64"
      ]
     },
     "execution_count": 12,
     "metadata": {},
     "output_type": "execute_result"
    }
   ],
   "source": [
    "file1[\"state\"] = file1[\"state\"].fillna(\"California\")\n",
    "file1[\"state\"].value_counts(dropna=False)"
   ]
  },
  {
   "cell_type": "code",
   "execution_count": 13,
   "id": "8bd676ce",
   "metadata": {},
   "outputs": [
    {
     "data": {
      "text/plain": [
       "NaN    5482\n",
       "A      5428\n",
       "Name: vehicle type, dtype: int64"
      ]
     },
     "execution_count": 13,
     "metadata": {},
     "output_type": "execute_result"
    }
   ],
   "source": [
    "file1[\"vehicle type\"]. value_counts(dropna=False)"
   ]
  },
  {
   "cell_type": "code",
   "execution_count": 14,
   "id": "2dd26d15",
   "metadata": {},
   "outputs": [
    {
     "data": {
      "text/plain": [
       "M    5482\n",
       "A    5428\n",
       "Name: vehicle type, dtype: int64"
      ]
     },
     "execution_count": 14,
     "metadata": {},
     "output_type": "execute_result"
    }
   ],
   "source": [
    "file1[\"vehicle type\"] = file1[\"vehicle type\"].fillna(\"M\")\n",
    "file1[\"vehicle type\"].value_counts(dropna=False)"
   ]
  },
  {
   "cell_type": "code",
   "execution_count": 15,
   "id": "b5bc2fe6",
   "metadata": {},
   "outputs": [
    {
     "data": {
      "text/plain": [
       "NaN     633\n",
       "3.0     426\n",
       "6.0     394\n",
       "1.0     386\n",
       "7.0     378\n",
       "4.0     373\n",
       "2.0     368\n",
       "5.0     355\n",
       "0.0     354\n",
       "10.0    346\n",
       "16.0    333\n",
       "11.0    331\n",
       "15.0    323\n",
       "13.0    320\n",
       "8.0     315\n",
       "12.0    307\n",
       "17.0    299\n",
       "14.0    299\n",
       "9.0     277\n",
       "19.0    276\n",
       "23.0    276\n",
       "25.0    269\n",
       "21.0    267\n",
       "18.0    257\n",
       "20.0    254\n",
       "22.0    246\n",
       "24.0    237\n",
       "29.0    234\n",
       "28.0    227\n",
       "31.0    221\n",
       "26.0    211\n",
       "27.0    208\n",
       "30.0    201\n",
       "34.0    199\n",
       "33.0    198\n",
       "35.0    157\n",
       "32.0    155\n",
       "Name: months since last claim, dtype: int64"
      ]
     },
     "execution_count": 15,
     "metadata": {},
     "output_type": "execute_result"
    }
   ],
   "source": [
    "file1[\"months since last claim\"]. value_counts(dropna=False)"
   ]
  },
  {
   "cell_type": "code",
   "execution_count": 16,
   "id": "176c4fa4",
   "metadata": {},
   "outputs": [
    {
     "data": {
      "text/plain": [
       "0.0     987\n",
       "3.0     426\n",
       "6.0     394\n",
       "1.0     386\n",
       "7.0     378\n",
       "4.0     373\n",
       "2.0     368\n",
       "5.0     355\n",
       "10.0    346\n",
       "16.0    333\n",
       "11.0    331\n",
       "15.0    323\n",
       "13.0    320\n",
       "8.0     315\n",
       "12.0    307\n",
       "17.0    299\n",
       "14.0    299\n",
       "9.0     277\n",
       "23.0    276\n",
       "19.0    276\n",
       "25.0    269\n",
       "21.0    267\n",
       "18.0    257\n",
       "20.0    254\n",
       "22.0    246\n",
       "24.0    237\n",
       "29.0    234\n",
       "28.0    227\n",
       "31.0    221\n",
       "26.0    211\n",
       "27.0    208\n",
       "30.0    201\n",
       "34.0    199\n",
       "33.0    198\n",
       "35.0    157\n",
       "32.0    155\n",
       "Name: months since last claim, dtype: int64"
      ]
     },
     "execution_count": 16,
     "metadata": {},
     "output_type": "execute_result"
    }
   ],
   "source": [
    "# I´m going to change NaN for 0 because there is correlation with number of open complaints\n",
    "file1[\"months since last claim\"] = file1[\"months since last claim\"].fillna(0.0)\n",
    "file1[\"months since last claim\"].value_counts(dropna=False)\n"
   ]
  },
  {
   "cell_type": "code",
   "execution_count": 17,
   "id": "2a214b73",
   "metadata": {},
   "outputs": [
    {
     "data": {
      "text/plain": [
       "0.0    8160\n",
       "1.0    1145\n",
       "NaN     633\n",
       "2.0     414\n",
       "3.0     324\n",
       "4.0     166\n",
       "5.0      68\n",
       "Name: number of open complaints, dtype: int64"
      ]
     },
     "execution_count": 17,
     "metadata": {},
     "output_type": "execute_result"
    }
   ],
   "source": [
    "file1[\"number of open complaints\"]. value_counts(dropna=False)"
   ]
  },
  {
   "cell_type": "code",
   "execution_count": 18,
   "id": "f1a66d1d",
   "metadata": {},
   "outputs": [
    {
     "data": {
      "text/plain": [
       "0.0    8793\n",
       "1.0    1145\n",
       "2.0     414\n",
       "3.0     324\n",
       "4.0     166\n",
       "5.0      68\n",
       "Name: number of open complaints, dtype: int64"
      ]
     },
     "execution_count": 18,
     "metadata": {},
     "output_type": "execute_result"
    }
   ],
   "source": [
    "# I´m going to change NaN for 0 because there is correlation with months since last claim\n",
    "file1[\"number of open complaints\"] = file1[\"number of open complaints\"].fillna(0.0)\n",
    "file1[\"number of open complaints\"].value_counts(dropna=False)"
   ]
  },
  {
   "cell_type": "code",
   "execution_count": 19,
   "id": "7d6cc61c",
   "metadata": {},
   "outputs": [
    {
     "data": {
      "text/plain": [
       "Four-Door Car    5212\n",
       "Two-Door Car     2118\n",
       "SUV              2012\n",
       "NaN               622\n",
       "Sports Car        550\n",
       "Luxury SUV        208\n",
       "Luxury Car        188\n",
       "Name: vehicle class, dtype: int64"
      ]
     },
     "execution_count": 19,
     "metadata": {},
     "output_type": "execute_result"
    }
   ],
   "source": [
    "file1[\"vehicle class\"]. value_counts(dropna=False)"
   ]
  },
  {
   "cell_type": "code",
   "execution_count": 20,
   "id": "0ba3d429",
   "metadata": {},
   "outputs": [
    {
     "data": {
      "text/plain": [
       "Four-Door Car    5834\n",
       "Two-Door Car     2118\n",
       "SUV              2012\n",
       "Sports Car        550\n",
       "Luxury SUV        208\n",
       "Luxury Car        188\n",
       "Name: vehicle class, dtype: int64"
      ]
     },
     "execution_count": 20,
     "metadata": {},
     "output_type": "execute_result"
    }
   ],
   "source": [
    "# I decided to put in Four-Door Car bc is the most typical\n",
    "file1[\"vehicle class\"] = file1[\"vehicle class\"].fillna(\"Four-Door Car\")\n",
    "file1[\"vehicle class\"].value_counts(dropna=False)"
   ]
  },
  {
   "cell_type": "code",
   "execution_count": 21,
   "id": "a201ada3",
   "metadata": {},
   "outputs": [
    {
     "data": {
      "text/plain": [
       "Medsize    7251\n",
       "Small      1966\n",
       "Large      1071\n",
       "NaN         622\n",
       "Name: vehicle size, dtype: int64"
      ]
     },
     "execution_count": 21,
     "metadata": {},
     "output_type": "execute_result"
    }
   ],
   "source": [
    "file1[\"vehicle size\"]. value_counts(dropna=False)"
   ]
  },
  {
   "cell_type": "code",
   "execution_count": 22,
   "id": "22a7fb7d",
   "metadata": {},
   "outputs": [
    {
     "data": {
      "text/plain": [
       "Medsize    7873\n",
       "Small      1966\n",
       "Large      1071\n",
       "Name: vehicle size, dtype: int64"
      ]
     },
     "execution_count": 22,
     "metadata": {},
     "output_type": "execute_result"
    }
   ],
   "source": [
    "# I decided to put in Medsize because is the most typical\n",
    "file1[\"vehicle size\"] = file1[\"vehicle size\"].fillna(\"Medsize\")\n",
    "file1[\"vehicle size\"].value_counts(dropna=False)"
   ]
  },
  {
   "cell_type": "code",
   "execution_count": 23,
   "id": "ef6ba101",
   "metadata": {},
   "outputs": [
    {
     "data": {
      "text/plain": [
       "No     8813\n",
       "Yes    1466\n",
       "NaN     631\n",
       "Name: response, dtype: int64"
      ]
     },
     "execution_count": 23,
     "metadata": {},
     "output_type": "execute_result"
    }
   ],
   "source": [
    "file1[\"response\"]. value_counts(dropna=False)"
   ]
  },
  {
   "cell_type": "code",
   "execution_count": 24,
   "id": "025f2bf2",
   "metadata": {},
   "outputs": [
    {
     "data": {
      "text/plain": [
       "No     9444\n",
       "Yes    1466\n",
       "Name: response, dtype: int64"
      ]
     },
     "execution_count": 24,
     "metadata": {},
     "output_type": "execute_result"
    }
   ],
   "source": [
    "# I decided to put in Medsize bc is the most typical\n",
    "file1[\"response\"] = file1[\"response\"].fillna(\"No\")\n",
    "file1[\"response\"].value_counts(dropna=False)"
   ]
  },
  {
   "cell_type": "code",
   "execution_count": 25,
   "id": "3edc5e02",
   "metadata": {},
   "outputs": [
    {
     "data": {
      "text/plain": [
       "customer                         0\n",
       "state                            0\n",
       "customer lifetime value          0\n",
       "response                         0\n",
       "coverage                         0\n",
       "education                        0\n",
       "effective to date                0\n",
       "employmentstatus                 0\n",
       "gender                           0\n",
       "income                           0\n",
       "location code                    0\n",
       "marital status                   0\n",
       "monthly premium auto             0\n",
       "months since last claim          0\n",
       "months since policy inception    0\n",
       "number of open complaints        0\n",
       "number of policies               0\n",
       "policy type                      0\n",
       "policy                           0\n",
       "renew offer type                 0\n",
       "sales channel                    0\n",
       "total claim amount               0\n",
       "vehicle class                    0\n",
       "vehicle size                     0\n",
       "vehicle type                     0\n",
       "dtype: int64"
      ]
     },
     "execution_count": 25,
     "metadata": {},
     "output_type": "execute_result"
    }
   ],
   "source": [
    "file1.isna().sum()"
   ]
  },
  {
   "cell_type": "code",
   "execution_count": 26,
   "id": "861ee597",
   "metadata": {},
   "outputs": [
    {
     "data": {
      "text/plain": [
       "1/10/11    239\n",
       "1/27/11    239\n",
       "1/31/11    224\n",
       "1/17/11    221\n",
       "2/14/11    221\n",
       "1/26/11    220\n",
       "1/3/11     216\n",
       "1/19/11    212\n",
       "2/27/11    205\n",
       "1/28/11    203\n",
       "2/26/11    202\n",
       "1/20/11    201\n",
       "1/21/11    199\n",
       "2/4/11     198\n",
       "2/7/11     197\n",
       "2/19/11    196\n",
       "2/3/11     195\n",
       "1/11/11    195\n",
       "1/5/11     193\n",
       "2/28/11    192\n",
       "2/22/11    191\n",
       "1/2/11     191\n",
       "2/18/11    186\n",
       "2/10/11    186\n",
       "2/11/11    184\n",
       "1/23/11    184\n",
       "2/12/11    183\n",
       "1/18/11    183\n",
       "2/25/11    183\n",
       "1/8/11     182\n",
       "1/29/11    182\n",
       "1/9/11     182\n",
       "2/5/11     181\n",
       "2/1/11     181\n",
       "2/2/11     181\n",
       "2/9/11     180\n",
       "1/14/11    180\n",
       "1/24/11    179\n",
       "2/21/11    178\n",
       "1/7/11     178\n",
       "2/23/11    176\n",
       "1/30/11    173\n",
       "1/15/11    172\n",
       "1/16/11    172\n",
       "1/13/11    171\n",
       "1/1/11     171\n",
       "2/6/11     171\n",
       "1/25/11    168\n",
       "2/13/11    168\n",
       "2/16/11    167\n",
       "2/24/11    162\n",
       "2/17/11    162\n",
       "1/6/11     161\n",
       "2/20/11    156\n",
       "2/15/11    155\n",
       "2/8/11     155\n",
       "1/22/11    148\n",
       "1/12/11    148\n",
       "1/4/11     131\n",
       "Name: effective to date, dtype: int64"
      ]
     },
     "execution_count": 26,
     "metadata": {},
     "output_type": "execute_result"
    }
   ],
   "source": [
    "file1[\"effective to date\"].value_counts()"
   ]
  },
  {
   "cell_type": "code",
   "execution_count": 27,
   "id": "e35fa113",
   "metadata": {},
   "outputs": [
    {
     "data": {
      "text/html": [
       "<div>\n",
       "<style scoped>\n",
       "    .dataframe tbody tr th:only-of-type {\n",
       "        vertical-align: middle;\n",
       "    }\n",
       "\n",
       "    .dataframe tbody tr th {\n",
       "        vertical-align: top;\n",
       "    }\n",
       "\n",
       "    .dataframe thead th {\n",
       "        text-align: right;\n",
       "    }\n",
       "</style>\n",
       "<table border=\"1\" class=\"dataframe\">\n",
       "  <thead>\n",
       "    <tr style=\"text-align: right;\">\n",
       "      <th></th>\n",
       "      <th>customer</th>\n",
       "      <th>state</th>\n",
       "      <th>customer lifetime value</th>\n",
       "      <th>response</th>\n",
       "      <th>coverage</th>\n",
       "      <th>education</th>\n",
       "      <th>effective to date</th>\n",
       "      <th>employmentstatus</th>\n",
       "      <th>gender</th>\n",
       "      <th>income</th>\n",
       "      <th>...</th>\n",
       "      <th>number of policies</th>\n",
       "      <th>policy type</th>\n",
       "      <th>policy</th>\n",
       "      <th>renew offer type</th>\n",
       "      <th>sales channel</th>\n",
       "      <th>total claim amount</th>\n",
       "      <th>vehicle class</th>\n",
       "      <th>vehicle size</th>\n",
       "      <th>vehicle type</th>\n",
       "      <th>month</th>\n",
       "    </tr>\n",
       "  </thead>\n",
       "  <tbody>\n",
       "    <tr>\n",
       "      <th>0</th>\n",
       "      <td>DK49336</td>\n",
       "      <td>Arizona</td>\n",
       "      <td>4809.216960</td>\n",
       "      <td>No</td>\n",
       "      <td>Basic</td>\n",
       "      <td>College</td>\n",
       "      <td>2011-02-18</td>\n",
       "      <td>Employed</td>\n",
       "      <td>M</td>\n",
       "      <td>48029</td>\n",
       "      <td>...</td>\n",
       "      <td>9</td>\n",
       "      <td>Corporate Auto</td>\n",
       "      <td>Corporate L3</td>\n",
       "      <td>Offer3</td>\n",
       "      <td>Agent</td>\n",
       "      <td>292.800000</td>\n",
       "      <td>Four-Door Car</td>\n",
       "      <td>Medsize</td>\n",
       "      <td>M</td>\n",
       "      <td>2</td>\n",
       "    </tr>\n",
       "    <tr>\n",
       "      <th>1</th>\n",
       "      <td>KX64629</td>\n",
       "      <td>California</td>\n",
       "      <td>2228.525238</td>\n",
       "      <td>No</td>\n",
       "      <td>Basic</td>\n",
       "      <td>College</td>\n",
       "      <td>2011-01-18</td>\n",
       "      <td>Unemployed</td>\n",
       "      <td>F</td>\n",
       "      <td>0</td>\n",
       "      <td>...</td>\n",
       "      <td>1</td>\n",
       "      <td>Personal Auto</td>\n",
       "      <td>Personal L3</td>\n",
       "      <td>Offer4</td>\n",
       "      <td>Call Center</td>\n",
       "      <td>744.924331</td>\n",
       "      <td>Four-Door Car</td>\n",
       "      <td>Medsize</td>\n",
       "      <td>M</td>\n",
       "      <td>1</td>\n",
       "    </tr>\n",
       "    <tr>\n",
       "      <th>2</th>\n",
       "      <td>LZ68649</td>\n",
       "      <td>Washington</td>\n",
       "      <td>14947.917300</td>\n",
       "      <td>No</td>\n",
       "      <td>Basic</td>\n",
       "      <td>Bachelor</td>\n",
       "      <td>2011-02-10</td>\n",
       "      <td>Employed</td>\n",
       "      <td>M</td>\n",
       "      <td>22139</td>\n",
       "      <td>...</td>\n",
       "      <td>2</td>\n",
       "      <td>Personal Auto</td>\n",
       "      <td>Personal L3</td>\n",
       "      <td>Offer3</td>\n",
       "      <td>Call Center</td>\n",
       "      <td>480.000000</td>\n",
       "      <td>SUV</td>\n",
       "      <td>Medsize</td>\n",
       "      <td>A</td>\n",
       "      <td>2</td>\n",
       "    </tr>\n",
       "    <tr>\n",
       "      <th>3</th>\n",
       "      <td>XL78013</td>\n",
       "      <td>Oregon</td>\n",
       "      <td>22332.439460</td>\n",
       "      <td>Yes</td>\n",
       "      <td>Extended</td>\n",
       "      <td>College</td>\n",
       "      <td>2011-01-11</td>\n",
       "      <td>Employed</td>\n",
       "      <td>M</td>\n",
       "      <td>49078</td>\n",
       "      <td>...</td>\n",
       "      <td>2</td>\n",
       "      <td>Corporate Auto</td>\n",
       "      <td>Corporate L3</td>\n",
       "      <td>Offer2</td>\n",
       "      <td>Branch</td>\n",
       "      <td>484.013411</td>\n",
       "      <td>Four-Door Car</td>\n",
       "      <td>Medsize</td>\n",
       "      <td>A</td>\n",
       "      <td>1</td>\n",
       "    </tr>\n",
       "    <tr>\n",
       "      <th>4</th>\n",
       "      <td>QA50777</td>\n",
       "      <td>Oregon</td>\n",
       "      <td>9025.067525</td>\n",
       "      <td>No</td>\n",
       "      <td>Premium</td>\n",
       "      <td>Bachelor</td>\n",
       "      <td>2011-01-17</td>\n",
       "      <td>Medical Leave</td>\n",
       "      <td>F</td>\n",
       "      <td>23675</td>\n",
       "      <td>...</td>\n",
       "      <td>7</td>\n",
       "      <td>Personal Auto</td>\n",
       "      <td>Personal L2</td>\n",
       "      <td>Offer1</td>\n",
       "      <td>Branch</td>\n",
       "      <td>707.925645</td>\n",
       "      <td>Four-Door Car</td>\n",
       "      <td>Medsize</td>\n",
       "      <td>M</td>\n",
       "      <td>1</td>\n",
       "    </tr>\n",
       "    <tr>\n",
       "      <th>...</th>\n",
       "      <td>...</td>\n",
       "      <td>...</td>\n",
       "      <td>...</td>\n",
       "      <td>...</td>\n",
       "      <td>...</td>\n",
       "      <td>...</td>\n",
       "      <td>...</td>\n",
       "      <td>...</td>\n",
       "      <td>...</td>\n",
       "      <td>...</td>\n",
       "      <td>...</td>\n",
       "      <td>...</td>\n",
       "      <td>...</td>\n",
       "      <td>...</td>\n",
       "      <td>...</td>\n",
       "      <td>...</td>\n",
       "      <td>...</td>\n",
       "      <td>...</td>\n",
       "      <td>...</td>\n",
       "      <td>...</td>\n",
       "      <td>...</td>\n",
       "    </tr>\n",
       "    <tr>\n",
       "      <th>10905</th>\n",
       "      <td>FE99816</td>\n",
       "      <td>Nevada</td>\n",
       "      <td>15563.369440</td>\n",
       "      <td>No</td>\n",
       "      <td>Premium</td>\n",
       "      <td>Bachelor</td>\n",
       "      <td>2011-01-19</td>\n",
       "      <td>Unemployed</td>\n",
       "      <td>F</td>\n",
       "      <td>0</td>\n",
       "      <td>...</td>\n",
       "      <td>7</td>\n",
       "      <td>Personal Auto</td>\n",
       "      <td>Personal L1</td>\n",
       "      <td>Offer3</td>\n",
       "      <td>Web</td>\n",
       "      <td>1214.400000</td>\n",
       "      <td>Luxury Car</td>\n",
       "      <td>Medsize</td>\n",
       "      <td>A</td>\n",
       "      <td>1</td>\n",
       "    </tr>\n",
       "    <tr>\n",
       "      <th>10906</th>\n",
       "      <td>KX53892</td>\n",
       "      <td>Oregon</td>\n",
       "      <td>5259.444853</td>\n",
       "      <td>No</td>\n",
       "      <td>Basic</td>\n",
       "      <td>College</td>\n",
       "      <td>2011-01-06</td>\n",
       "      <td>Employed</td>\n",
       "      <td>F</td>\n",
       "      <td>61146</td>\n",
       "      <td>...</td>\n",
       "      <td>6</td>\n",
       "      <td>Personal Auto</td>\n",
       "      <td>Personal L3</td>\n",
       "      <td>Offer2</td>\n",
       "      <td>Branch</td>\n",
       "      <td>273.018929</td>\n",
       "      <td>Four-Door Car</td>\n",
       "      <td>Medsize</td>\n",
       "      <td>A</td>\n",
       "      <td>1</td>\n",
       "    </tr>\n",
       "    <tr>\n",
       "      <th>10907</th>\n",
       "      <td>TL39050</td>\n",
       "      <td>Arizona</td>\n",
       "      <td>23893.304100</td>\n",
       "      <td>No</td>\n",
       "      <td>Extended</td>\n",
       "      <td>Bachelor</td>\n",
       "      <td>2011-02-06</td>\n",
       "      <td>Employed</td>\n",
       "      <td>F</td>\n",
       "      <td>39837</td>\n",
       "      <td>...</td>\n",
       "      <td>2</td>\n",
       "      <td>Corporate Auto</td>\n",
       "      <td>Corporate L3</td>\n",
       "      <td>Offer1</td>\n",
       "      <td>Web</td>\n",
       "      <td>381.306996</td>\n",
       "      <td>Luxury SUV</td>\n",
       "      <td>Medsize</td>\n",
       "      <td>M</td>\n",
       "      <td>2</td>\n",
       "    </tr>\n",
       "    <tr>\n",
       "      <th>10908</th>\n",
       "      <td>WA60547</td>\n",
       "      <td>California</td>\n",
       "      <td>11971.977650</td>\n",
       "      <td>No</td>\n",
       "      <td>Premium</td>\n",
       "      <td>College</td>\n",
       "      <td>2011-02-13</td>\n",
       "      <td>Employed</td>\n",
       "      <td>F</td>\n",
       "      <td>64195</td>\n",
       "      <td>...</td>\n",
       "      <td>6</td>\n",
       "      <td>Personal Auto</td>\n",
       "      <td>Personal L1</td>\n",
       "      <td>Offer1</td>\n",
       "      <td>Branch</td>\n",
       "      <td>618.288849</td>\n",
       "      <td>SUV</td>\n",
       "      <td>Medsize</td>\n",
       "      <td>A</td>\n",
       "      <td>2</td>\n",
       "    </tr>\n",
       "    <tr>\n",
       "      <th>10909</th>\n",
       "      <td>IV32877</td>\n",
       "      <td>California</td>\n",
       "      <td>6857.519928</td>\n",
       "      <td>No</td>\n",
       "      <td>Basic</td>\n",
       "      <td>Bachelor</td>\n",
       "      <td>2011-01-08</td>\n",
       "      <td>Unemployed</td>\n",
       "      <td>M</td>\n",
       "      <td>0</td>\n",
       "      <td>...</td>\n",
       "      <td>3</td>\n",
       "      <td>Personal Auto</td>\n",
       "      <td>Personal L1</td>\n",
       "      <td>Offer4</td>\n",
       "      <td>Web</td>\n",
       "      <td>1021.719397</td>\n",
       "      <td>SUV</td>\n",
       "      <td>Medsize</td>\n",
       "      <td>M</td>\n",
       "      <td>1</td>\n",
       "    </tr>\n",
       "  </tbody>\n",
       "</table>\n",
       "<p>10910 rows × 26 columns</p>\n",
       "</div>"
      ],
      "text/plain": [
       "      customer       state  customer lifetime value response  coverage  \\\n",
       "0      DK49336     Arizona              4809.216960       No     Basic   \n",
       "1      KX64629  California              2228.525238       No     Basic   \n",
       "2      LZ68649  Washington             14947.917300       No     Basic   \n",
       "3      XL78013      Oregon             22332.439460      Yes  Extended   \n",
       "4      QA50777      Oregon              9025.067525       No   Premium   \n",
       "...        ...         ...                      ...      ...       ...   \n",
       "10905  FE99816      Nevada             15563.369440       No   Premium   \n",
       "10906  KX53892      Oregon              5259.444853       No     Basic   \n",
       "10907  TL39050     Arizona             23893.304100       No  Extended   \n",
       "10908  WA60547  California             11971.977650       No   Premium   \n",
       "10909  IV32877  California              6857.519928       No     Basic   \n",
       "\n",
       "      education effective to date employmentstatus gender  income  ...  \\\n",
       "0       College        2011-02-18         Employed      M   48029  ...   \n",
       "1       College        2011-01-18       Unemployed      F       0  ...   \n",
       "2      Bachelor        2011-02-10         Employed      M   22139  ...   \n",
       "3       College        2011-01-11         Employed      M   49078  ...   \n",
       "4      Bachelor        2011-01-17    Medical Leave      F   23675  ...   \n",
       "...         ...               ...              ...    ...     ...  ...   \n",
       "10905  Bachelor        2011-01-19       Unemployed      F       0  ...   \n",
       "10906   College        2011-01-06         Employed      F   61146  ...   \n",
       "10907  Bachelor        2011-02-06         Employed      F   39837  ...   \n",
       "10908   College        2011-02-13         Employed      F   64195  ...   \n",
       "10909  Bachelor        2011-01-08       Unemployed      M       0  ...   \n",
       "\n",
       "      number of policies     policy type        policy  renew offer type  \\\n",
       "0                      9  Corporate Auto  Corporate L3            Offer3   \n",
       "1                      1   Personal Auto   Personal L3            Offer4   \n",
       "2                      2   Personal Auto   Personal L3            Offer3   \n",
       "3                      2  Corporate Auto  Corporate L3            Offer2   \n",
       "4                      7   Personal Auto   Personal L2            Offer1   \n",
       "...                  ...             ...           ...               ...   \n",
       "10905                  7   Personal Auto   Personal L1            Offer3   \n",
       "10906                  6   Personal Auto   Personal L3            Offer2   \n",
       "10907                  2  Corporate Auto  Corporate L3            Offer1   \n",
       "10908                  6   Personal Auto   Personal L1            Offer1   \n",
       "10909                  3   Personal Auto   Personal L1            Offer4   \n",
       "\n",
       "       sales channel  total claim amount  vehicle class vehicle size  \\\n",
       "0              Agent          292.800000  Four-Door Car      Medsize   \n",
       "1        Call Center          744.924331  Four-Door Car      Medsize   \n",
       "2        Call Center          480.000000            SUV      Medsize   \n",
       "3             Branch          484.013411  Four-Door Car      Medsize   \n",
       "4             Branch          707.925645  Four-Door Car      Medsize   \n",
       "...              ...                 ...            ...          ...   \n",
       "10905            Web         1214.400000     Luxury Car      Medsize   \n",
       "10906         Branch          273.018929  Four-Door Car      Medsize   \n",
       "10907            Web          381.306996     Luxury SUV      Medsize   \n",
       "10908         Branch          618.288849            SUV      Medsize   \n",
       "10909            Web         1021.719397            SUV      Medsize   \n",
       "\n",
       "      vehicle type month  \n",
       "0                M     2  \n",
       "1                M     1  \n",
       "2                A     2  \n",
       "3                A     1  \n",
       "4                M     1  \n",
       "...            ...   ...  \n",
       "10905            A     1  \n",
       "10906            A     1  \n",
       "10907            M     2  \n",
       "10908            A     2  \n",
       "10909            M     1  \n",
       "\n",
       "[10910 rows x 26 columns]"
      ]
     },
     "metadata": {},
     "output_type": "display_data"
    },
    {
     "data": {
      "text/html": [
       "<div>\n",
       "<style scoped>\n",
       "    .dataframe tbody tr th:only-of-type {\n",
       "        vertical-align: middle;\n",
       "    }\n",
       "\n",
       "    .dataframe tbody tr th {\n",
       "        vertical-align: top;\n",
       "    }\n",
       "\n",
       "    .dataframe thead th {\n",
       "        text-align: right;\n",
       "    }\n",
       "</style>\n",
       "<table border=\"1\" class=\"dataframe\">\n",
       "  <thead>\n",
       "    <tr style=\"text-align: right;\">\n",
       "      <th></th>\n",
       "      <th>customer</th>\n",
       "      <th>state</th>\n",
       "      <th>customer lifetime value</th>\n",
       "      <th>response</th>\n",
       "      <th>coverage</th>\n",
       "      <th>education</th>\n",
       "      <th>effective to date</th>\n",
       "      <th>employmentstatus</th>\n",
       "      <th>gender</th>\n",
       "      <th>income</th>\n",
       "      <th>...</th>\n",
       "      <th>number of policies</th>\n",
       "      <th>policy type</th>\n",
       "      <th>policy</th>\n",
       "      <th>renew offer type</th>\n",
       "      <th>sales channel</th>\n",
       "      <th>total claim amount</th>\n",
       "      <th>vehicle class</th>\n",
       "      <th>vehicle size</th>\n",
       "      <th>vehicle type</th>\n",
       "      <th>month</th>\n",
       "    </tr>\n",
       "  </thead>\n",
       "  <tbody>\n",
       "    <tr>\n",
       "      <th>0</th>\n",
       "      <td>DK49336</td>\n",
       "      <td>Arizona</td>\n",
       "      <td>4809.216960</td>\n",
       "      <td>No</td>\n",
       "      <td>Basic</td>\n",
       "      <td>College</td>\n",
       "      <td>2011-02-18</td>\n",
       "      <td>Employed</td>\n",
       "      <td>M</td>\n",
       "      <td>48029</td>\n",
       "      <td>...</td>\n",
       "      <td>9</td>\n",
       "      <td>Corporate Auto</td>\n",
       "      <td>Corporate L3</td>\n",
       "      <td>Offer3</td>\n",
       "      <td>Agent</td>\n",
       "      <td>292.800000</td>\n",
       "      <td>Four-Door Car</td>\n",
       "      <td>Medsize</td>\n",
       "      <td>M</td>\n",
       "      <td>2</td>\n",
       "    </tr>\n",
       "    <tr>\n",
       "      <th>1</th>\n",
       "      <td>KX64629</td>\n",
       "      <td>California</td>\n",
       "      <td>2228.525238</td>\n",
       "      <td>No</td>\n",
       "      <td>Basic</td>\n",
       "      <td>College</td>\n",
       "      <td>2011-01-18</td>\n",
       "      <td>Unemployed</td>\n",
       "      <td>F</td>\n",
       "      <td>0</td>\n",
       "      <td>...</td>\n",
       "      <td>1</td>\n",
       "      <td>Personal Auto</td>\n",
       "      <td>Personal L3</td>\n",
       "      <td>Offer4</td>\n",
       "      <td>Call Center</td>\n",
       "      <td>744.924331</td>\n",
       "      <td>Four-Door Car</td>\n",
       "      <td>Medsize</td>\n",
       "      <td>M</td>\n",
       "      <td>1</td>\n",
       "    </tr>\n",
       "    <tr>\n",
       "      <th>2</th>\n",
       "      <td>LZ68649</td>\n",
       "      <td>Washington</td>\n",
       "      <td>14947.917300</td>\n",
       "      <td>No</td>\n",
       "      <td>Basic</td>\n",
       "      <td>Bachelor</td>\n",
       "      <td>2011-02-10</td>\n",
       "      <td>Employed</td>\n",
       "      <td>M</td>\n",
       "      <td>22139</td>\n",
       "      <td>...</td>\n",
       "      <td>2</td>\n",
       "      <td>Personal Auto</td>\n",
       "      <td>Personal L3</td>\n",
       "      <td>Offer3</td>\n",
       "      <td>Call Center</td>\n",
       "      <td>480.000000</td>\n",
       "      <td>SUV</td>\n",
       "      <td>Medsize</td>\n",
       "      <td>A</td>\n",
       "      <td>2</td>\n",
       "    </tr>\n",
       "    <tr>\n",
       "      <th>3</th>\n",
       "      <td>XL78013</td>\n",
       "      <td>Oregon</td>\n",
       "      <td>22332.439460</td>\n",
       "      <td>Yes</td>\n",
       "      <td>Extended</td>\n",
       "      <td>College</td>\n",
       "      <td>2011-01-11</td>\n",
       "      <td>Employed</td>\n",
       "      <td>M</td>\n",
       "      <td>49078</td>\n",
       "      <td>...</td>\n",
       "      <td>2</td>\n",
       "      <td>Corporate Auto</td>\n",
       "      <td>Corporate L3</td>\n",
       "      <td>Offer2</td>\n",
       "      <td>Branch</td>\n",
       "      <td>484.013411</td>\n",
       "      <td>Four-Door Car</td>\n",
       "      <td>Medsize</td>\n",
       "      <td>A</td>\n",
       "      <td>1</td>\n",
       "    </tr>\n",
       "    <tr>\n",
       "      <th>4</th>\n",
       "      <td>QA50777</td>\n",
       "      <td>Oregon</td>\n",
       "      <td>9025.067525</td>\n",
       "      <td>No</td>\n",
       "      <td>Premium</td>\n",
       "      <td>Bachelor</td>\n",
       "      <td>2011-01-17</td>\n",
       "      <td>Medical Leave</td>\n",
       "      <td>F</td>\n",
       "      <td>23675</td>\n",
       "      <td>...</td>\n",
       "      <td>7</td>\n",
       "      <td>Personal Auto</td>\n",
       "      <td>Personal L2</td>\n",
       "      <td>Offer1</td>\n",
       "      <td>Branch</td>\n",
       "      <td>707.925645</td>\n",
       "      <td>Four-Door Car</td>\n",
       "      <td>Medsize</td>\n",
       "      <td>M</td>\n",
       "      <td>1</td>\n",
       "    </tr>\n",
       "    <tr>\n",
       "      <th>...</th>\n",
       "      <td>...</td>\n",
       "      <td>...</td>\n",
       "      <td>...</td>\n",
       "      <td>...</td>\n",
       "      <td>...</td>\n",
       "      <td>...</td>\n",
       "      <td>...</td>\n",
       "      <td>...</td>\n",
       "      <td>...</td>\n",
       "      <td>...</td>\n",
       "      <td>...</td>\n",
       "      <td>...</td>\n",
       "      <td>...</td>\n",
       "      <td>...</td>\n",
       "      <td>...</td>\n",
       "      <td>...</td>\n",
       "      <td>...</td>\n",
       "      <td>...</td>\n",
       "      <td>...</td>\n",
       "      <td>...</td>\n",
       "      <td>...</td>\n",
       "    </tr>\n",
       "    <tr>\n",
       "      <th>10905</th>\n",
       "      <td>FE99816</td>\n",
       "      <td>Nevada</td>\n",
       "      <td>15563.369440</td>\n",
       "      <td>No</td>\n",
       "      <td>Premium</td>\n",
       "      <td>Bachelor</td>\n",
       "      <td>2011-01-19</td>\n",
       "      <td>Unemployed</td>\n",
       "      <td>F</td>\n",
       "      <td>0</td>\n",
       "      <td>...</td>\n",
       "      <td>7</td>\n",
       "      <td>Personal Auto</td>\n",
       "      <td>Personal L1</td>\n",
       "      <td>Offer3</td>\n",
       "      <td>Web</td>\n",
       "      <td>1214.400000</td>\n",
       "      <td>Luxury Car</td>\n",
       "      <td>Medsize</td>\n",
       "      <td>A</td>\n",
       "      <td>1</td>\n",
       "    </tr>\n",
       "    <tr>\n",
       "      <th>10906</th>\n",
       "      <td>KX53892</td>\n",
       "      <td>Oregon</td>\n",
       "      <td>5259.444853</td>\n",
       "      <td>No</td>\n",
       "      <td>Basic</td>\n",
       "      <td>College</td>\n",
       "      <td>2011-01-06</td>\n",
       "      <td>Employed</td>\n",
       "      <td>F</td>\n",
       "      <td>61146</td>\n",
       "      <td>...</td>\n",
       "      <td>6</td>\n",
       "      <td>Personal Auto</td>\n",
       "      <td>Personal L3</td>\n",
       "      <td>Offer2</td>\n",
       "      <td>Branch</td>\n",
       "      <td>273.018929</td>\n",
       "      <td>Four-Door Car</td>\n",
       "      <td>Medsize</td>\n",
       "      <td>A</td>\n",
       "      <td>1</td>\n",
       "    </tr>\n",
       "    <tr>\n",
       "      <th>10907</th>\n",
       "      <td>TL39050</td>\n",
       "      <td>Arizona</td>\n",
       "      <td>23893.304100</td>\n",
       "      <td>No</td>\n",
       "      <td>Extended</td>\n",
       "      <td>Bachelor</td>\n",
       "      <td>2011-02-06</td>\n",
       "      <td>Employed</td>\n",
       "      <td>F</td>\n",
       "      <td>39837</td>\n",
       "      <td>...</td>\n",
       "      <td>2</td>\n",
       "      <td>Corporate Auto</td>\n",
       "      <td>Corporate L3</td>\n",
       "      <td>Offer1</td>\n",
       "      <td>Web</td>\n",
       "      <td>381.306996</td>\n",
       "      <td>Luxury SUV</td>\n",
       "      <td>Medsize</td>\n",
       "      <td>M</td>\n",
       "      <td>2</td>\n",
       "    </tr>\n",
       "    <tr>\n",
       "      <th>10908</th>\n",
       "      <td>WA60547</td>\n",
       "      <td>California</td>\n",
       "      <td>11971.977650</td>\n",
       "      <td>No</td>\n",
       "      <td>Premium</td>\n",
       "      <td>College</td>\n",
       "      <td>2011-02-13</td>\n",
       "      <td>Employed</td>\n",
       "      <td>F</td>\n",
       "      <td>64195</td>\n",
       "      <td>...</td>\n",
       "      <td>6</td>\n",
       "      <td>Personal Auto</td>\n",
       "      <td>Personal L1</td>\n",
       "      <td>Offer1</td>\n",
       "      <td>Branch</td>\n",
       "      <td>618.288849</td>\n",
       "      <td>SUV</td>\n",
       "      <td>Medsize</td>\n",
       "      <td>A</td>\n",
       "      <td>2</td>\n",
       "    </tr>\n",
       "    <tr>\n",
       "      <th>10909</th>\n",
       "      <td>IV32877</td>\n",
       "      <td>California</td>\n",
       "      <td>6857.519928</td>\n",
       "      <td>No</td>\n",
       "      <td>Basic</td>\n",
       "      <td>Bachelor</td>\n",
       "      <td>2011-01-08</td>\n",
       "      <td>Unemployed</td>\n",
       "      <td>M</td>\n",
       "      <td>0</td>\n",
       "      <td>...</td>\n",
       "      <td>3</td>\n",
       "      <td>Personal Auto</td>\n",
       "      <td>Personal L1</td>\n",
       "      <td>Offer4</td>\n",
       "      <td>Web</td>\n",
       "      <td>1021.719397</td>\n",
       "      <td>SUV</td>\n",
       "      <td>Medsize</td>\n",
       "      <td>M</td>\n",
       "      <td>1</td>\n",
       "    </tr>\n",
       "  </tbody>\n",
       "</table>\n",
       "<p>10910 rows × 26 columns</p>\n",
       "</div>"
      ],
      "text/plain": [
       "      customer       state  customer lifetime value response  coverage  \\\n",
       "0      DK49336     Arizona              4809.216960       No     Basic   \n",
       "1      KX64629  California              2228.525238       No     Basic   \n",
       "2      LZ68649  Washington             14947.917300       No     Basic   \n",
       "3      XL78013      Oregon             22332.439460      Yes  Extended   \n",
       "4      QA50777      Oregon              9025.067525       No   Premium   \n",
       "...        ...         ...                      ...      ...       ...   \n",
       "10905  FE99816      Nevada             15563.369440       No   Premium   \n",
       "10906  KX53892      Oregon              5259.444853       No     Basic   \n",
       "10907  TL39050     Arizona             23893.304100       No  Extended   \n",
       "10908  WA60547  California             11971.977650       No   Premium   \n",
       "10909  IV32877  California              6857.519928       No     Basic   \n",
       "\n",
       "      education effective to date employmentstatus gender  income  ...  \\\n",
       "0       College        2011-02-18         Employed      M   48029  ...   \n",
       "1       College        2011-01-18       Unemployed      F       0  ...   \n",
       "2      Bachelor        2011-02-10         Employed      M   22139  ...   \n",
       "3       College        2011-01-11         Employed      M   49078  ...   \n",
       "4      Bachelor        2011-01-17    Medical Leave      F   23675  ...   \n",
       "...         ...               ...              ...    ...     ...  ...   \n",
       "10905  Bachelor        2011-01-19       Unemployed      F       0  ...   \n",
       "10906   College        2011-01-06         Employed      F   61146  ...   \n",
       "10907  Bachelor        2011-02-06         Employed      F   39837  ...   \n",
       "10908   College        2011-02-13         Employed      F   64195  ...   \n",
       "10909  Bachelor        2011-01-08       Unemployed      M       0  ...   \n",
       "\n",
       "      number of policies     policy type        policy  renew offer type  \\\n",
       "0                      9  Corporate Auto  Corporate L3            Offer3   \n",
       "1                      1   Personal Auto   Personal L3            Offer4   \n",
       "2                      2   Personal Auto   Personal L3            Offer3   \n",
       "3                      2  Corporate Auto  Corporate L3            Offer2   \n",
       "4                      7   Personal Auto   Personal L2            Offer1   \n",
       "...                  ...             ...           ...               ...   \n",
       "10905                  7   Personal Auto   Personal L1            Offer3   \n",
       "10906                  6   Personal Auto   Personal L3            Offer2   \n",
       "10907                  2  Corporate Auto  Corporate L3            Offer1   \n",
       "10908                  6   Personal Auto   Personal L1            Offer1   \n",
       "10909                  3   Personal Auto   Personal L1            Offer4   \n",
       "\n",
       "       sales channel  total claim amount  vehicle class vehicle size  \\\n",
       "0              Agent          292.800000  Four-Door Car      Medsize   \n",
       "1        Call Center          744.924331  Four-Door Car      Medsize   \n",
       "2        Call Center          480.000000            SUV      Medsize   \n",
       "3             Branch          484.013411  Four-Door Car      Medsize   \n",
       "4             Branch          707.925645  Four-Door Car      Medsize   \n",
       "...              ...                 ...            ...          ...   \n",
       "10905            Web         1214.400000     Luxury Car      Medsize   \n",
       "10906         Branch          273.018929  Four-Door Car      Medsize   \n",
       "10907            Web          381.306996     Luxury SUV      Medsize   \n",
       "10908         Branch          618.288849            SUV      Medsize   \n",
       "10909            Web         1021.719397            SUV      Medsize   \n",
       "\n",
       "      vehicle type month  \n",
       "0                M     2  \n",
       "1                M     1  \n",
       "2                A     2  \n",
       "3                A     1  \n",
       "4                M     1  \n",
       "...            ...   ...  \n",
       "10905            A     1  \n",
       "10906            A     1  \n",
       "10907            M     2  \n",
       "10908            A     2  \n",
       "10909            M     1  \n",
       "\n",
       "[10910 rows x 26 columns]"
      ]
     },
     "metadata": {},
     "output_type": "display_data"
    }
   ],
   "source": [
    "# Datetime format - Extract the months from the dataset and store in a separate column. \n",
    "# Then filter the data to show only the information for the first quarter , ie. January, February and March.\n",
    "# Hint: If data from March does not exist, consider only January and February.\n",
    "file1['effective to date'] = pd.to_datetime(file1['effective to date'])\n",
    "file1['month'] = file1['effective to date'].dt.month\n",
    "q1_data = file1[file1['month']<4]\n",
    "display (q1_data)\n",
    "display(file1)"
   ]
  },
  {
   "cell_type": "code",
   "execution_count": 28,
   "id": "e1dc3d09",
   "metadata": {},
   "outputs": [],
   "source": [
    "# Another way to do it:\n",
    "# import time\n",
    "# from datetime import date\n",
    "# file1 [\"month\"] = pd.to_datetime (file1[\"effective to date\"], errors=\"coerce\")\n",
    "# file1 [\"month\"] = pd.DatetimeIndex(file1 [\"month\"]).month\n",
    "# file1 [\"month\"].unique()\n",
    "# file1[file1 [\"month\"].isin([1,2])]"
   ]
  },
  {
   "cell_type": "code",
   "execution_count": 29,
   "id": "bd5e9b50",
   "metadata": {},
   "outputs": [],
   "source": [
    "# BONUS: Put all the previously mentioned data transformations into a function.\n",
    "def clean_data(dataframe):\n",
    "    # Drop the index column\n",
    "    file1 = file1.drop(['Unnamed: 0'], axis=1)\n",
    "    #snakecase\n",
    "    cols = []\n",
    "    for c in file1.columns:\n",
    "        cols.append(c.lower())\n",
    "    file1.columns = cols\n",
    "    # NaN values will be added to California, because is the bigger number\n",
    "    file1[\"state\"] = file1[\"state\"].fillna(\"California\")\n",
    "    # NaN values I change it for M (Manual)\n",
    "    file1[\"vehicle type\"] = file1[\"vehicle type\"].fillna(\"M\")\n",
    "    # I´m going to change NaN for 0 because there is correlation with number of open complaints\n",
    "    file1[\"months since last claim\"] = file1[\"months since last claim\"].fillna(0.0)\n",
    "    # I´m going to change NaN for 0 because there is correlation with months since last claim\n",
    "    file1[\"number of open complaints\"] = file1[\"number of open complaints\"].fillna(0.0)\n",
    "    # I decided to put in Four-Door Car bc is the most typical\n",
    "    file1[\"vehicle class\"] = file1[\"vehicle class\"].fillna(\"Four-Door Car\")\n",
    "    # I decided to put in Medsize because is the most typical\n",
    "    file1[\"vehicle size\"] = file1[\"vehicle size\"].fillna(\"Medsize\")\n",
    "    # Getting the month from the dates\n",
    "    file1['effective to date'] = pd.to_datetime(file1['effective to date'])\n",
    "    file1['month'] = file1['effective to date'].dt.month\n",
    "    return dataframe"
   ]
  },
  {
   "cell_type": "markdown",
   "id": "30cab535",
   "metadata": {},
   "source": [
    "**Lab | Customer Analysis Round 3.**"
   ]
  },
  {
   "cell_type": "code",
   "execution_count": 30,
   "id": "cfc0c2d3",
   "metadata": {},
   "outputs": [
    {
     "name": "stdout",
     "output_type": "stream",
     "text": [
      "<class 'pandas.core.frame.DataFrame'>\n",
      "RangeIndex: 10910 entries, 0 to 10909\n",
      "Data columns (total 26 columns):\n",
      " #   Column                         Non-Null Count  Dtype         \n",
      "---  ------                         --------------  -----         \n",
      " 0   customer                       10910 non-null  object        \n",
      " 1   state                          10910 non-null  object        \n",
      " 2   customer lifetime value        10910 non-null  float64       \n",
      " 3   response                       10910 non-null  object        \n",
      " 4   coverage                       10910 non-null  object        \n",
      " 5   education                      10910 non-null  object        \n",
      " 6   effective to date              10910 non-null  datetime64[ns]\n",
      " 7   employmentstatus               10910 non-null  object        \n",
      " 8   gender                         10910 non-null  object        \n",
      " 9   income                         10910 non-null  int64         \n",
      " 10  location code                  10910 non-null  object        \n",
      " 11  marital status                 10910 non-null  object        \n",
      " 12  monthly premium auto           10910 non-null  int64         \n",
      " 13  months since last claim        10910 non-null  float64       \n",
      " 14  months since policy inception  10910 non-null  int64         \n",
      " 15  number of open complaints      10910 non-null  float64       \n",
      " 16  number of policies             10910 non-null  int64         \n",
      " 17  policy type                    10910 non-null  object        \n",
      " 18  policy                         10910 non-null  object        \n",
      " 19  renew offer type               10910 non-null  object        \n",
      " 20  sales channel                  10910 non-null  object        \n",
      " 21  total claim amount             10910 non-null  float64       \n",
      " 22  vehicle class                  10910 non-null  object        \n",
      " 23  vehicle size                   10910 non-null  object        \n",
      " 24  vehicle type                   10910 non-null  object        \n",
      " 25  month                          10910 non-null  int64         \n",
      "dtypes: datetime64[ns](1), float64(4), int64(5), object(16)\n",
      "memory usage: 2.2+ MB\n"
     ]
    }
   ],
   "source": [
    "# Show DataFrame info\n",
    "file1.info()"
   ]
  },
  {
   "cell_type": "code",
   "execution_count": 31,
   "id": "f4fb96a9",
   "metadata": {},
   "outputs": [
    {
     "data": {
      "text/html": [
       "<div>\n",
       "<style scoped>\n",
       "    .dataframe tbody tr th:only-of-type {\n",
       "        vertical-align: middle;\n",
       "    }\n",
       "\n",
       "    .dataframe tbody tr th {\n",
       "        vertical-align: top;\n",
       "    }\n",
       "\n",
       "    .dataframe thead th {\n",
       "        text-align: right;\n",
       "    }\n",
       "</style>\n",
       "<table border=\"1\" class=\"dataframe\">\n",
       "  <thead>\n",
       "    <tr style=\"text-align: right;\">\n",
       "      <th></th>\n",
       "      <th>customer lifetime value</th>\n",
       "      <th>income</th>\n",
       "      <th>monthly premium auto</th>\n",
       "      <th>months since last claim</th>\n",
       "      <th>months since policy inception</th>\n",
       "      <th>number of open complaints</th>\n",
       "      <th>number of policies</th>\n",
       "      <th>total claim amount</th>\n",
       "      <th>month</th>\n",
       "    </tr>\n",
       "  </thead>\n",
       "  <tbody>\n",
       "    <tr>\n",
       "      <th>count</th>\n",
       "      <td>10910.000000</td>\n",
       "      <td>10910.000000</td>\n",
       "      <td>10910.000000</td>\n",
       "      <td>10910.000000</td>\n",
       "      <td>10910.000000</td>\n",
       "      <td>10910.000000</td>\n",
       "      <td>10910.000000</td>\n",
       "      <td>10910.000000</td>\n",
       "      <td>10910.000000</td>\n",
       "    </tr>\n",
       "    <tr>\n",
       "      <th>mean</th>\n",
       "      <td>8018.241094</td>\n",
       "      <td>37536.284785</td>\n",
       "      <td>93.196059</td>\n",
       "      <td>14.270119</td>\n",
       "      <td>48.091934</td>\n",
       "      <td>0.361962</td>\n",
       "      <td>2.979193</td>\n",
       "      <td>434.888330</td>\n",
       "      <td>1.466728</td>\n",
       "    </tr>\n",
       "    <tr>\n",
       "      <th>std</th>\n",
       "      <td>6885.081434</td>\n",
       "      <td>30359.195670</td>\n",
       "      <td>34.442532</td>\n",
       "      <td>10.404862</td>\n",
       "      <td>27.940675</td>\n",
       "      <td>0.890134</td>\n",
       "      <td>2.399359</td>\n",
       "      <td>292.180556</td>\n",
       "      <td>0.498915</td>\n",
       "    </tr>\n",
       "    <tr>\n",
       "      <th>min</th>\n",
       "      <td>1898.007675</td>\n",
       "      <td>0.000000</td>\n",
       "      <td>61.000000</td>\n",
       "      <td>0.000000</td>\n",
       "      <td>0.000000</td>\n",
       "      <td>0.000000</td>\n",
       "      <td>1.000000</td>\n",
       "      <td>0.099007</td>\n",
       "      <td>1.000000</td>\n",
       "    </tr>\n",
       "    <tr>\n",
       "      <th>25%</th>\n",
       "      <td>4014.453113</td>\n",
       "      <td>0.000000</td>\n",
       "      <td>68.000000</td>\n",
       "      <td>5.000000</td>\n",
       "      <td>24.000000</td>\n",
       "      <td>0.000000</td>\n",
       "      <td>1.000000</td>\n",
       "      <td>271.082527</td>\n",
       "      <td>1.000000</td>\n",
       "    </tr>\n",
       "    <tr>\n",
       "      <th>50%</th>\n",
       "      <td>5771.147235</td>\n",
       "      <td>33813.500000</td>\n",
       "      <td>83.000000</td>\n",
       "      <td>13.000000</td>\n",
       "      <td>48.000000</td>\n",
       "      <td>0.000000</td>\n",
       "      <td>2.000000</td>\n",
       "      <td>382.564630</td>\n",
       "      <td>1.000000</td>\n",
       "    </tr>\n",
       "    <tr>\n",
       "      <th>75%</th>\n",
       "      <td>8992.779137</td>\n",
       "      <td>62250.750000</td>\n",
       "      <td>109.000000</td>\n",
       "      <td>23.000000</td>\n",
       "      <td>71.000000</td>\n",
       "      <td>0.000000</td>\n",
       "      <td>4.000000</td>\n",
       "      <td>547.200000</td>\n",
       "      <td>2.000000</td>\n",
       "    </tr>\n",
       "    <tr>\n",
       "      <th>max</th>\n",
       "      <td>83325.381190</td>\n",
       "      <td>99981.000000</td>\n",
       "      <td>298.000000</td>\n",
       "      <td>35.000000</td>\n",
       "      <td>99.000000</td>\n",
       "      <td>5.000000</td>\n",
       "      <td>9.000000</td>\n",
       "      <td>2893.239678</td>\n",
       "      <td>2.000000</td>\n",
       "    </tr>\n",
       "  </tbody>\n",
       "</table>\n",
       "</div>"
      ],
      "text/plain": [
       "       customer lifetime value        income  monthly premium auto  \\\n",
       "count             10910.000000  10910.000000          10910.000000   \n",
       "mean               8018.241094  37536.284785             93.196059   \n",
       "std                6885.081434  30359.195670             34.442532   \n",
       "min                1898.007675      0.000000             61.000000   \n",
       "25%                4014.453113      0.000000             68.000000   \n",
       "50%                5771.147235  33813.500000             83.000000   \n",
       "75%                8992.779137  62250.750000            109.000000   \n",
       "max               83325.381190  99981.000000            298.000000   \n",
       "\n",
       "       months since last claim  months since policy inception  \\\n",
       "count             10910.000000                   10910.000000   \n",
       "mean                 14.270119                      48.091934   \n",
       "std                  10.404862                      27.940675   \n",
       "min                   0.000000                       0.000000   \n",
       "25%                   5.000000                      24.000000   \n",
       "50%                  13.000000                      48.000000   \n",
       "75%                  23.000000                      71.000000   \n",
       "max                  35.000000                      99.000000   \n",
       "\n",
       "       number of open complaints  number of policies  total claim amount  \\\n",
       "count               10910.000000        10910.000000        10910.000000   \n",
       "mean                    0.361962            2.979193          434.888330   \n",
       "std                     0.890134            2.399359          292.180556   \n",
       "min                     0.000000            1.000000            0.099007   \n",
       "25%                     0.000000            1.000000          271.082527   \n",
       "50%                     0.000000            2.000000          382.564630   \n",
       "75%                     0.000000            4.000000          547.200000   \n",
       "max                     5.000000            9.000000         2893.239678   \n",
       "\n",
       "              month  \n",
       "count  10910.000000  \n",
       "mean       1.466728  \n",
       "std        0.498915  \n",
       "min        1.000000  \n",
       "25%        1.000000  \n",
       "50%        1.000000  \n",
       "75%        2.000000  \n",
       "max        2.000000  "
      ]
     },
     "execution_count": 31,
     "metadata": {},
     "output_type": "execute_result"
    }
   ],
   "source": [
    "# Describe DataFrame.\n",
    "file1.describe()"
   ]
  },
  {
   "cell_type": "code",
   "execution_count": 32,
   "id": "9dfd7fdf",
   "metadata": {},
   "outputs": [
    {
     "data": {
      "image/png": "[encoded data removed]",
      "text/plain": [
       "<Figure size 640x480 with 1 Axes>"
      ]
     },
     "metadata": {},
     "output_type": "display_data"
    }
   ],
   "source": [
    "# Show a plot of the total number of responses.\n",
    "import matplotlib.pyplot as plt\n",
    "import seaborn as sns \n",
    "%matplotlib inline\n",
    "sns.countplot(x=file1[\"response\"])\n",
    "\n",
    "plt.show ()"
   ]
  },
  {
   "cell_type": "code",
   "execution_count": 33,
   "id": "78943a7c",
   "metadata": {},
   "outputs": [
    {
     "data": {
      "image/png": "[encoded data removed]",
      "text/plain": [
       "<Figure size 640x480 with 1 Axes>"
      ]
     },
     "metadata": {},
     "output_type": "display_data"
    }
   ],
   "source": [
    "# Show a plot of the response rate by the sales channel.\n",
    "file1['response rate'] = np.where(file1['response'] == \"Yes\", 1, 0)\n",
    "sns.barplot(x ='sales channel',y = \"response rate\", data = file1)\n",
    "plt.show()"
   ]
  },
  {
   "cell_type": "code",
   "execution_count": 34,
   "id": "8c3c3b21",
   "metadata": {},
   "outputs": [
    {
     "data": {
      "text/plain": [
       "count    10910.000000\n",
       "mean       434.888330\n",
       "std        292.180556\n",
       "min          0.099007\n",
       "25%        271.082527\n",
       "50%        382.564630\n",
       "75%        547.200000\n",
       "max       2893.239678\n",
       "Name: total claim amount, dtype: float64"
      ]
     },
     "execution_count": 34,
     "metadata": {},
     "output_type": "execute_result"
    }
   ],
   "source": [
    "# Show a plot of the response rate by the total claim amount.\n",
    "file1[\"total claim amount\"].describe()\n"
   ]
  },
  {
   "cell_type": "code",
   "execution_count": 35,
   "id": "0821cae1",
   "metadata": {},
   "outputs": [
    {
     "data": {
      "text/plain": [
       "300-450    3233\n",
       "450-600    2295\n",
       "150-300    1686\n",
       "0-150      1550\n",
       "600-750     937\n",
       "<900        704\n",
       "750-900     505\n",
       "Name: total claim amount, dtype: int64"
      ]
     },
     "execution_count": 35,
     "metadata": {},
     "output_type": "execute_result"
    }
   ],
   "source": [
    "bin1 =pd.cut(file1[\"total claim amount\"], labels =['0-150', '150-300', '300-450', '450-600', '600-750','750-900','<900'], bins =[0,150,300,450,600,750,900,2900])\n",
    "file1 [\"total claim amount range\"] = bin1\n",
    "bin1.value_counts()"
   ]
  },
  {
   "cell_type": "code",
   "execution_count": 36,
   "id": "089e7188",
   "metadata": {},
   "outputs": [
    {
     "data": {
      "image/png": "[encoded data removed]",
      "text/plain": [
       "<Figure size 640x480 with 1 Axes>"
      ]
     },
     "metadata": {},
     "output_type": "display_data"
    }
   ],
   "source": [
    "sns.barplot(x=\"total claim amount range\", y=\"response rate\", data=file1)\n",
    "plt.show ()"
   ]
  },
  {
   "cell_type": "code",
   "execution_count": 37,
   "id": "07437ea8",
   "metadata": {},
   "outputs": [
    {
     "data": {
      "text/plain": [
       "count    10910.000000\n",
       "mean     37536.284785\n",
       "std      30359.195670\n",
       "min          0.000000\n",
       "25%          0.000000\n",
       "50%      33813.500000\n",
       "75%      62250.750000\n",
       "max      99981.000000\n",
       "Name: income, dtype: float64"
      ]
     },
     "execution_count": 37,
     "metadata": {},
     "output_type": "execute_result"
    }
   ],
   "source": [
    "# Show a plot of the response rate by income.\n",
    "file1[\"income\"].describe()"
   ]
  },
  {
   "cell_type": "code",
   "execution_count": 38,
   "id": "45578630",
   "metadata": {},
   "outputs": [
    {
     "data": {
      "text/plain": [
       ">60000         2970\n",
       "20000-30000    1632\n",
       "30000-40000    1070\n",
       "50000-60000     938\n",
       "40000-50000     881\n",
       ">20000          632\n",
       "Name: income, dtype: int64"
      ]
     },
     "execution_count": 38,
     "metadata": {},
     "output_type": "execute_result"
    }
   ],
   "source": [
    "bin2 =pd.cut(file1[\"income\"], labels =['>20000', '20000-30000', '30000-40000',\"40000-50000\",\"50000-60000\", '>60000'], bins =[0,20000,30000,40000,50000,60000,100000])\n",
    "file1 [\"income by range\"] = bin2\n",
    "bin2.value_counts()"
   ]
  },
  {
   "cell_type": "code",
   "execution_count": 39,
   "id": "2c269e14",
   "metadata": {},
   "outputs": [
    {
     "data": {
      "image/png": "[encoded data removed]",
      "text/plain": [
       "<Figure size 640x480 with 1 Axes>"
      ]
     },
     "metadata": {},
     "output_type": "display_data"
    }
   ],
   "source": [
    "sns.barplot(x=\"income by range\", y=\"response rate\", data=file1)\n",
    "plt.show ()"
   ]
  },
  {
   "cell_type": "markdown",
   "id": "8e343c1e",
   "metadata": {},
   "source": [
    "**Lab | Customer Analysis Round 4**"
   ]
  },
  {
   "cell_type": "code",
   "execution_count": 42,
   "id": "bd898623",
   "metadata": {},
   "outputs": [
    {
     "data": {
      "text/html": [
       "<div>\n",
       "<style scoped>\n",
       "    .dataframe tbody tr th:only-of-type {\n",
       "        vertical-align: middle;\n",
       "    }\n",
       "\n",
       "    .dataframe tbody tr th {\n",
       "        vertical-align: top;\n",
       "    }\n",
       "\n",
       "    .dataframe thead th {\n",
       "        text-align: right;\n",
       "    }\n",
       "</style>\n",
       "<table border=\"1\" class=\"dataframe\">\n",
       "  <thead>\n",
       "    <tr style=\"text-align: right;\">\n",
       "      <th></th>\n",
       "      <th>customer lifetime value</th>\n",
       "      <th>income</th>\n",
       "      <th>monthly premium auto</th>\n",
       "      <th>months since last claim</th>\n",
       "      <th>months since policy inception</th>\n",
       "      <th>number of open complaints</th>\n",
       "      <th>number of policies</th>\n",
       "      <th>total claim amount</th>\n",
       "      <th>month</th>\n",
       "      <th>response rate</th>\n",
       "    </tr>\n",
       "  </thead>\n",
       "  <tbody>\n",
       "    <tr>\n",
       "      <th>0</th>\n",
       "      <td>4809.216960</td>\n",
       "      <td>48029</td>\n",
       "      <td>61</td>\n",
       "      <td>7.0</td>\n",
       "      <td>52</td>\n",
       "      <td>0.0</td>\n",
       "      <td>9</td>\n",
       "      <td>292.800000</td>\n",
       "      <td>2</td>\n",
       "      <td>0</td>\n",
       "    </tr>\n",
       "    <tr>\n",
       "      <th>1</th>\n",
       "      <td>2228.525238</td>\n",
       "      <td>0</td>\n",
       "      <td>64</td>\n",
       "      <td>3.0</td>\n",
       "      <td>26</td>\n",
       "      <td>0.0</td>\n",
       "      <td>1</td>\n",
       "      <td>744.924331</td>\n",
       "      <td>1</td>\n",
       "      <td>0</td>\n",
       "    </tr>\n",
       "    <tr>\n",
       "      <th>2</th>\n",
       "      <td>14947.917300</td>\n",
       "      <td>22139</td>\n",
       "      <td>100</td>\n",
       "      <td>34.0</td>\n",
       "      <td>31</td>\n",
       "      <td>0.0</td>\n",
       "      <td>2</td>\n",
       "      <td>480.000000</td>\n",
       "      <td>2</td>\n",
       "      <td>0</td>\n",
       "    </tr>\n",
       "    <tr>\n",
       "      <th>3</th>\n",
       "      <td>22332.439460</td>\n",
       "      <td>49078</td>\n",
       "      <td>97</td>\n",
       "      <td>10.0</td>\n",
       "      <td>3</td>\n",
       "      <td>0.0</td>\n",
       "      <td>2</td>\n",
       "      <td>484.013411</td>\n",
       "      <td>1</td>\n",
       "      <td>1</td>\n",
       "    </tr>\n",
       "    <tr>\n",
       "      <th>4</th>\n",
       "      <td>9025.067525</td>\n",
       "      <td>23675</td>\n",
       "      <td>117</td>\n",
       "      <td>0.0</td>\n",
       "      <td>31</td>\n",
       "      <td>0.0</td>\n",
       "      <td>7</td>\n",
       "      <td>707.925645</td>\n",
       "      <td>1</td>\n",
       "      <td>0</td>\n",
       "    </tr>\n",
       "  </tbody>\n",
       "</table>\n",
       "</div>"
      ],
      "text/plain": [
       "   customer lifetime value  income  monthly premium auto  \\\n",
       "0              4809.216960   48029                    61   \n",
       "1              2228.525238       0                    64   \n",
       "2             14947.917300   22139                   100   \n",
       "3             22332.439460   49078                    97   \n",
       "4              9025.067525   23675                   117   \n",
       "\n",
       "   months since last claim  months since policy inception  \\\n",
       "0                      7.0                             52   \n",
       "1                      3.0                             26   \n",
       "2                     34.0                             31   \n",
       "3                     10.0                              3   \n",
       "4                      0.0                             31   \n",
       "\n",
       "   number of open complaints  number of policies  total claim amount  month  \\\n",
       "0                        0.0                   9          292.800000      2   \n",
       "1                        0.0                   1          744.924331      1   \n",
       "2                        0.0                   2          480.000000      2   \n",
       "3                        0.0                   2          484.013411      1   \n",
       "4                        0.0                   7          707.925645      1   \n",
       "\n",
       "   response rate  \n",
       "0              0  \n",
       "1              0  \n",
       "2              0  \n",
       "3              1  \n",
       "4              0  "
      ]
     },
     "execution_count": 42,
     "metadata": {},
     "output_type": "execute_result"
    }
   ],
   "source": [
    "# Check the data types of the columns. Get the numeric data into dataframe called numerical and categorical columns in a dataframe called categoricals. (You can use np.number and np.object to select the numerical data types and categorical data types respectively)\n",
    "numerical = file1.select_dtypes(include = np.number)\n",
    "numerical.head()\n",
    "# print (\"This are numerical columns\", numerical.columns)"
   ]
  },
  {
   "cell_type": "code",
   "execution_count": 136,
   "id": "9708d2ca",
   "metadata": {},
   "outputs": [
    {
     "data": {
      "text/html": [
       "<div>\n",
       "<style scoped>\n",
       "    .dataframe tbody tr th:only-of-type {\n",
       "        vertical-align: middle;\n",
       "    }\n",
       "\n",
       "    .dataframe tbody tr th {\n",
       "        vertical-align: top;\n",
       "    }\n",
       "\n",
       "    .dataframe thead th {\n",
       "        text-align: right;\n",
       "    }\n",
       "</style>\n",
       "<table border=\"1\" class=\"dataframe\">\n",
       "  <thead>\n",
       "    <tr style=\"text-align: right;\">\n",
       "      <th></th>\n",
       "      <th>customer</th>\n",
       "      <th>state</th>\n",
       "      <th>response</th>\n",
       "      <th>coverage</th>\n",
       "      <th>education</th>\n",
       "      <th>employmentstatus</th>\n",
       "      <th>gender</th>\n",
       "      <th>location code</th>\n",
       "      <th>marital status</th>\n",
       "      <th>policy type</th>\n",
       "      <th>policy</th>\n",
       "      <th>renew offer type</th>\n",
       "      <th>sales channel</th>\n",
       "      <th>vehicle class</th>\n",
       "      <th>vehicle size</th>\n",
       "      <th>vehicle type</th>\n",
       "    </tr>\n",
       "  </thead>\n",
       "  <tbody>\n",
       "    <tr>\n",
       "      <th>0</th>\n",
       "      <td>DK49336</td>\n",
       "      <td>Arizona</td>\n",
       "      <td>No</td>\n",
       "      <td>Basic</td>\n",
       "      <td>College</td>\n",
       "      <td>Employed</td>\n",
       "      <td>M</td>\n",
       "      <td>Suburban</td>\n",
       "      <td>Married</td>\n",
       "      <td>Corporate Auto</td>\n",
       "      <td>Corporate L3</td>\n",
       "      <td>Offer3</td>\n",
       "      <td>Agent</td>\n",
       "      <td>Four-Door Car</td>\n",
       "      <td>Medsize</td>\n",
       "      <td>M</td>\n",
       "    </tr>\n",
       "    <tr>\n",
       "      <th>1</th>\n",
       "      <td>KX64629</td>\n",
       "      <td>California</td>\n",
       "      <td>No</td>\n",
       "      <td>Basic</td>\n",
       "      <td>College</td>\n",
       "      <td>Unemployed</td>\n",
       "      <td>F</td>\n",
       "      <td>Suburban</td>\n",
       "      <td>Single</td>\n",
       "      <td>Personal Auto</td>\n",
       "      <td>Personal L3</td>\n",
       "      <td>Offer4</td>\n",
       "      <td>Call Center</td>\n",
       "      <td>Four-Door Car</td>\n",
       "      <td>Medsize</td>\n",
       "      <td>M</td>\n",
       "    </tr>\n",
       "    <tr>\n",
       "      <th>2</th>\n",
       "      <td>LZ68649</td>\n",
       "      <td>Washington</td>\n",
       "      <td>No</td>\n",
       "      <td>Basic</td>\n",
       "      <td>Bachelor</td>\n",
       "      <td>Employed</td>\n",
       "      <td>M</td>\n",
       "      <td>Suburban</td>\n",
       "      <td>Single</td>\n",
       "      <td>Personal Auto</td>\n",
       "      <td>Personal L3</td>\n",
       "      <td>Offer3</td>\n",
       "      <td>Call Center</td>\n",
       "      <td>SUV</td>\n",
       "      <td>Medsize</td>\n",
       "      <td>A</td>\n",
       "    </tr>\n",
       "    <tr>\n",
       "      <th>3</th>\n",
       "      <td>XL78013</td>\n",
       "      <td>Oregon</td>\n",
       "      <td>Yes</td>\n",
       "      <td>Extended</td>\n",
       "      <td>College</td>\n",
       "      <td>Employed</td>\n",
       "      <td>M</td>\n",
       "      <td>Suburban</td>\n",
       "      <td>Single</td>\n",
       "      <td>Corporate Auto</td>\n",
       "      <td>Corporate L3</td>\n",
       "      <td>Offer2</td>\n",
       "      <td>Branch</td>\n",
       "      <td>Four-Door Car</td>\n",
       "      <td>Medsize</td>\n",
       "      <td>A</td>\n",
       "    </tr>\n",
       "    <tr>\n",
       "      <th>4</th>\n",
       "      <td>QA50777</td>\n",
       "      <td>Oregon</td>\n",
       "      <td>No</td>\n",
       "      <td>Premium</td>\n",
       "      <td>Bachelor</td>\n",
       "      <td>Medical Leave</td>\n",
       "      <td>F</td>\n",
       "      <td>Suburban</td>\n",
       "      <td>Married</td>\n",
       "      <td>Personal Auto</td>\n",
       "      <td>Personal L2</td>\n",
       "      <td>Offer1</td>\n",
       "      <td>Branch</td>\n",
       "      <td>Four-Door Car</td>\n",
       "      <td>Medsize</td>\n",
       "      <td>M</td>\n",
       "    </tr>\n",
       "  </tbody>\n",
       "</table>\n",
       "</div>"
      ],
      "text/plain": [
       "  customer       state response  coverage education employmentstatus gender  \\\n",
       "0  DK49336     Arizona       No     Basic   College         Employed      M   \n",
       "1  KX64629  California       No     Basic   College       Unemployed      F   \n",
       "2  LZ68649  Washington       No     Basic  Bachelor         Employed      M   \n",
       "3  XL78013      Oregon      Yes  Extended   College         Employed      M   \n",
       "4  QA50777      Oregon       No   Premium  Bachelor    Medical Leave      F   \n",
       "\n",
       "  location code marital status     policy type        policy renew offer type  \\\n",
       "0      Suburban        Married  Corporate Auto  Corporate L3           Offer3   \n",
       "1      Suburban         Single   Personal Auto   Personal L3           Offer4   \n",
       "2      Suburban         Single   Personal Auto   Personal L3           Offer3   \n",
       "3      Suburban         Single  Corporate Auto  Corporate L3           Offer2   \n",
       "4      Suburban        Married   Personal Auto   Personal L2           Offer1   \n",
       "\n",
       "  sales channel  vehicle class vehicle size vehicle type  \n",
       "0         Agent  Four-Door Car      Medsize            M  \n",
       "1   Call Center  Four-Door Car      Medsize            M  \n",
       "2   Call Center            SUV      Medsize            A  \n",
       "3        Branch  Four-Door Car      Medsize            A  \n",
       "4        Branch  Four-Door Car      Medsize            M  "
      ]
     },
     "execution_count": 136,
     "metadata": {},
     "output_type": "execute_result"
    }
   ],
   "source": [
    "categoricals = file1.select_dtypes(include = object)\n",
    "categoricals.head()"
   ]
  },
  {
   "cell_type": "code",
   "execution_count": 137,
   "id": "93696510",
   "metadata": {},
   "outputs": [],
   "source": [
    "# Now we will try to check the normality of the numerical variables visually\n",
    "# Use seaborn library to construct distribution plots for the numerical variables\n",
    "%matplotlib inline"
   ]
  },
  {
   "cell_type": "code",
   "execution_count": 138,
   "id": "158f4cbb",
   "metadata": {},
   "outputs": [
    {
     "data": {
      "image/png": "[encoded data removed]",
      "text/plain": [
       "<Figure size 500x500 with 1 Axes>"
      ]
     },
     "metadata": {},
     "output_type": "display_data"
    }
   ],
   "source": [
    "sns.displot(data=numerical, x=\"customer lifetime value\", kde=True)\n",
    "plt.show()"
   ]
  },
  {
   "cell_type": "code",
   "execution_count": 139,
   "id": "078a2ed4",
   "metadata": {},
   "outputs": [
    {
     "data": {
      "image/png": "[encoded data removed]",
      "text/plain": [
       "<Figure size 500x500 with 1 Axes>"
      ]
     },
     "metadata": {},
     "output_type": "display_data"
    }
   ],
   "source": [
    "sns.displot(data=numerical, x=\"income\", kde=True)\n",
    "plt.show()"
   ]
  },
  {
   "cell_type": "code",
   "execution_count": 140,
   "id": "93d38d62",
   "metadata": {},
   "outputs": [
    {
     "data": {
      "image/png": "[encoded data removed]",
      "text/plain": [
       "<Figure size 500x500 with 1 Axes>"
      ]
     },
     "metadata": {},
     "output_type": "display_data"
    }
   ],
   "source": [
    "sns.displot(data=numerical, x=\"monthly premium auto\", kde=True)\n",
    "plt.show()"
   ]
  },
  {
   "cell_type": "code",
   "execution_count": 141,
   "id": "875fa064",
   "metadata": {},
   "outputs": [
    {
     "data": {
      "image/png": "[encoded data removed]",
      "text/plain": [
       "<Figure size 500x500 with 1 Axes>"
      ]
     },
     "metadata": {},
     "output_type": "display_data"
    }
   ],
   "source": [
    "sns.displot(data=numerical, x=\"months since last claim\", kde=True)\n",
    "plt.show()"
   ]
  },
  {
   "cell_type": "code",
   "execution_count": 142,
   "id": "3718412d",
   "metadata": {},
   "outputs": [
    {
     "data": {
      "image/png": "[encoded data removed]",
      "text/plain": [
       "<Figure size 500x500 with 1 Axes>"
      ]
     },
     "metadata": {},
     "output_type": "display_data"
    }
   ],
   "source": [
    "sns.displot(data=numerical, x=\"months since policy inception\", kde=True)\n",
    "plt.show()"
   ]
  },
  {
   "cell_type": "code",
   "execution_count": 143,
   "id": "5d22fb3e",
   "metadata": {},
   "outputs": [
    {
     "data": {
      "image/png": "[encoded data removed]",
      "text/plain": [
       "<Figure size 500x500 with 1 Axes>"
      ]
     },
     "metadata": {},
     "output_type": "display_data"
    }
   ],
   "source": [
    "sns.displot(data=numerical, x=\"number of open complaints\", kde=True)\n",
    "plt.show()"
   ]
  },
  {
   "cell_type": "code",
   "execution_count": 144,
   "id": "79b62f05",
   "metadata": {},
   "outputs": [
    {
     "data": {
      "image/png": "[encoded data removed]",
      "text/plain": [
       "<Figure size 500x500 with 1 Axes>"
      ]
     },
     "metadata": {},
     "output_type": "display_data"
    }
   ],
   "source": [
    "sns.displot(data=numerical, x=\"number of policies\", kde=True)\n",
    "plt.show()"
   ]
  },
  {
   "cell_type": "code",
   "execution_count": 145,
   "id": "59f31130",
   "metadata": {},
   "outputs": [
    {
     "data": {
      "image/png": "[encoded data removed]",
      "text/plain": [
       "<Figure size 500x500 with 1 Axes>"
      ]
     },
     "metadata": {},
     "output_type": "display_data"
    }
   ],
   "source": [
    "sns.displot(data=numerical, x=\"total claim amount\", kde=True)\n",
    "plt.show()"
   ]
  },
  {
   "cell_type": "code",
   "execution_count": 146,
   "id": "99740551",
   "metadata": {},
   "outputs": [
    {
     "data": {
      "image/png": "[encoded data removed]",
      "text/plain": [
       "<Figure size 640x480 with 1 Axes>"
      ]
     },
     "metadata": {},
     "output_type": "display_data"
    }
   ],
   "source": [
    "# Use Matplotlib to construct histograms\n",
    "plt.hist(numerical['customer lifetime value'])\n",
    "plt.show()"
   ]
  },
  {
   "cell_type": "code",
   "execution_count": 147,
   "id": "de85cfee",
   "metadata": {},
   "outputs": [
    {
     "data": {
      "image/png": "[encoded data removed]",
      "text/plain": [
       "<Figure size 640x480 with 1 Axes>"
      ]
     },
     "metadata": {},
     "output_type": "display_data"
    }
   ],
   "source": [
    "plt.hist(numerical['income'])\n",
    "plt.show()"
   ]
  },
  {
   "cell_type": "code",
   "execution_count": 148,
   "id": "40155350",
   "metadata": {},
   "outputs": [
    {
     "data": {
      "image/png": "[encoded data removed]",
      "text/plain": [
       "<Figure size 640x480 with 1 Axes>"
      ]
     },
     "metadata": {},
     "output_type": "display_data"
    }
   ],
   "source": [
    "plt.hist(numerical['monthly premium auto'])\n",
    "plt.show()"
   ]
  },
  {
   "cell_type": "code",
   "execution_count": 149,
   "id": "7063901b",
   "metadata": {},
   "outputs": [
    {
     "data": {
      "image/png": "[encoded data removed]",
      "text/plain": [
       "<Figure size 640x480 with 1 Axes>"
      ]
     },
     "metadata": {},
     "output_type": "display_data"
    }
   ],
   "source": [
    "plt.hist(numerical['months since last claim'])\n",
    "plt.show()"
   ]
  },
  {
   "cell_type": "code",
   "execution_count": 150,
   "id": "2d73adab",
   "metadata": {},
   "outputs": [
    {
     "data": {
      "image/png": "[encoded data removed]",
      "text/plain": [
       "<Figure size 640x480 with 1 Axes>"
      ]
     },
     "metadata": {},
     "output_type": "display_data"
    }
   ],
   "source": [
    "plt.hist(numerical[\"months since policy inception\"])\n",
    "plt.show()"
   ]
  },
  {
   "cell_type": "code",
   "execution_count": 151,
   "id": "5817551c",
   "metadata": {},
   "outputs": [
    {
     "data": {
      "image/png": "[encoded data removed]",
      "text/plain": [
       "<Figure size 640x480 with 1 Axes>"
      ]
     },
     "metadata": {},
     "output_type": "display_data"
    }
   ],
   "source": [
    "plt.hist(numerical['number of open complaints'])\n",
    "plt.show()"
   ]
  },
  {
   "cell_type": "code",
   "execution_count": 152,
   "id": "aee81185",
   "metadata": {},
   "outputs": [
    {
     "data": {
      "image/png": "[encoded data removed]",
      "text/plain": [
       "<Figure size 640x480 with 1 Axes>"
      ]
     },
     "metadata": {},
     "output_type": "display_data"
    }
   ],
   "source": [
    "plt.hist(numerical['number of policies'])\n",
    "plt.show()"
   ]
  },
  {
   "cell_type": "code",
   "execution_count": 153,
   "id": "d51926cc",
   "metadata": {},
   "outputs": [
    {
     "data": {
      "image/png": "[encoded data removed]",
      "text/plain": [
       "<Figure size 640x480 with 1 Axes>"
      ]
     },
     "metadata": {},
     "output_type": "display_data"
    }
   ],
   "source": [
    "plt.hist(numerical['total claim amount'])\n",
    "plt.show()"
   ]
  },
  {
   "cell_type": "code",
   "execution_count": 154,
   "id": "cd910620",
   "metadata": {},
   "outputs": [],
   "source": [
    "# Do the distributions for different numerical variables look like a normal distribution\n",
    "# Most of them don´t show normal distribution. However, \"months since policy inception\" is the only one which has a similar figure."
   ]
  },
  {
   "cell_type": "code",
   "execution_count": 155,
   "id": "6930fba7",
   "metadata": {},
   "outputs": [],
   "source": [
    "# For the numerical variables, check the multicollinearity between the features. Please note that we will use the column total_claim_amount later as the target variable.\n",
    "# There isn´t multicollinearity between the features"
   ]
  },
  {
   "cell_type": "code",
   "execution_count": 156,
   "id": "2df076c1",
   "metadata": {},
   "outputs": [
    {
     "data": {
      "text/html": [
       "<div>\n",
       "<style scoped>\n",
       "    .dataframe tbody tr th:only-of-type {\n",
       "        vertical-align: middle;\n",
       "    }\n",
       "\n",
       "    .dataframe tbody tr th {\n",
       "        vertical-align: top;\n",
       "    }\n",
       "\n",
       "    .dataframe thead th {\n",
       "        text-align: right;\n",
       "    }\n",
       "</style>\n",
       "<table border=\"1\" class=\"dataframe\">\n",
       "  <thead>\n",
       "    <tr style=\"text-align: right;\">\n",
       "      <th></th>\n",
       "      <th>customer lifetime value</th>\n",
       "      <th>income</th>\n",
       "      <th>monthly premium auto</th>\n",
       "      <th>months since last claim</th>\n",
       "      <th>months since policy inception</th>\n",
       "      <th>number of open complaints</th>\n",
       "      <th>number of policies</th>\n",
       "      <th>total claim amount</th>\n",
       "      <th>month</th>\n",
       "      <th>response rate</th>\n",
       "    </tr>\n",
       "  </thead>\n",
       "  <tbody>\n",
       "    <tr>\n",
       "      <th>customer lifetime value</th>\n",
       "      <td>1.000000</td>\n",
       "      <td>0.028306</td>\n",
       "      <td>0.403069</td>\n",
       "      <td>0.017189</td>\n",
       "      <td>0.016960</td>\n",
       "      <td>-0.030616</td>\n",
       "      <td>0.016024</td>\n",
       "      <td>0.232626</td>\n",
       "      <td>-0.009234</td>\n",
       "      <td>-0.007765</td>\n",
       "    </tr>\n",
       "    <tr>\n",
       "      <th>income</th>\n",
       "      <td>0.028306</td>\n",
       "      <td>1.000000</td>\n",
       "      <td>-0.009788</td>\n",
       "      <td>-0.016671</td>\n",
       "      <td>-0.005903</td>\n",
       "      <td>0.008425</td>\n",
       "      <td>-0.009960</td>\n",
       "      <td>-0.354141</td>\n",
       "      <td>-0.000443</td>\n",
       "      <td>0.011156</td>\n",
       "    </tr>\n",
       "    <tr>\n",
       "      <th>monthly premium auto</th>\n",
       "      <td>0.403069</td>\n",
       "      <td>-0.009788</td>\n",
       "      <td>1.000000</td>\n",
       "      <td>0.007845</td>\n",
       "      <td>0.018953</td>\n",
       "      <td>-0.010059</td>\n",
       "      <td>-0.020505</td>\n",
       "      <td>0.631799</td>\n",
       "      <td>0.007253</td>\n",
       "      <td>0.013918</td>\n",
       "    </tr>\n",
       "    <tr>\n",
       "      <th>months since last claim</th>\n",
       "      <td>0.017189</td>\n",
       "      <td>-0.016671</td>\n",
       "      <td>0.007845</td>\n",
       "      <td>1.000000</td>\n",
       "      <td>-0.036081</td>\n",
       "      <td>0.036455</td>\n",
       "      <td>-0.000649</td>\n",
       "      <td>0.007210</td>\n",
       "      <td>-0.022099</td>\n",
       "      <td>-0.011572</td>\n",
       "    </tr>\n",
       "    <tr>\n",
       "      <th>months since policy inception</th>\n",
       "      <td>0.016960</td>\n",
       "      <td>-0.005903</td>\n",
       "      <td>0.018953</td>\n",
       "      <td>-0.036081</td>\n",
       "      <td>1.000000</td>\n",
       "      <td>0.004165</td>\n",
       "      <td>-0.009123</td>\n",
       "      <td>0.003095</td>\n",
       "      <td>0.015163</td>\n",
       "      <td>-0.004875</td>\n",
       "    </tr>\n",
       "    <tr>\n",
       "      <th>number of open complaints</th>\n",
       "      <td>-0.030616</td>\n",
       "      <td>0.008425</td>\n",
       "      <td>-0.010059</td>\n",
       "      <td>0.036455</td>\n",
       "      <td>0.004165</td>\n",
       "      <td>1.000000</td>\n",
       "      <td>0.001681</td>\n",
       "      <td>-0.012380</td>\n",
       "      <td>-0.005802</td>\n",
       "      <td>-0.004419</td>\n",
       "    </tr>\n",
       "    <tr>\n",
       "      <th>number of policies</th>\n",
       "      <td>0.016024</td>\n",
       "      <td>-0.009960</td>\n",
       "      <td>-0.020505</td>\n",
       "      <td>-0.000649</td>\n",
       "      <td>-0.009123</td>\n",
       "      <td>0.001681</td>\n",
       "      <td>1.000000</td>\n",
       "      <td>-0.008923</td>\n",
       "      <td>0.005127</td>\n",
       "      <td>-0.018650</td>\n",
       "    </tr>\n",
       "    <tr>\n",
       "      <th>total claim amount</th>\n",
       "      <td>0.232626</td>\n",
       "      <td>-0.354141</td>\n",
       "      <td>0.631799</td>\n",
       "      <td>0.007210</td>\n",
       "      <td>0.003095</td>\n",
       "      <td>-0.012380</td>\n",
       "      <td>-0.008923</td>\n",
       "      <td>1.000000</td>\n",
       "      <td>0.001425</td>\n",
       "      <td>0.016416</td>\n",
       "    </tr>\n",
       "    <tr>\n",
       "      <th>month</th>\n",
       "      <td>-0.009234</td>\n",
       "      <td>-0.000443</td>\n",
       "      <td>0.007253</td>\n",
       "      <td>-0.022099</td>\n",
       "      <td>0.015163</td>\n",
       "      <td>-0.005802</td>\n",
       "      <td>0.005127</td>\n",
       "      <td>0.001425</td>\n",
       "      <td>1.000000</td>\n",
       "      <td>-0.032981</td>\n",
       "    </tr>\n",
       "    <tr>\n",
       "      <th>response rate</th>\n",
       "      <td>-0.007765</td>\n",
       "      <td>0.011156</td>\n",
       "      <td>0.013918</td>\n",
       "      <td>-0.011572</td>\n",
       "      <td>-0.004875</td>\n",
       "      <td>-0.004419</td>\n",
       "      <td>-0.018650</td>\n",
       "      <td>0.016416</td>\n",
       "      <td>-0.032981</td>\n",
       "      <td>1.000000</td>\n",
       "    </tr>\n",
       "  </tbody>\n",
       "</table>\n",
       "</div>"
      ],
      "text/plain": [
       "                               customer lifetime value    income  \\\n",
       "customer lifetime value                       1.000000  0.028306   \n",
       "income                                        0.028306  1.000000   \n",
       "monthly premium auto                          0.403069 -0.009788   \n",
       "months since last claim                       0.017189 -0.016671   \n",
       "months since policy inception                 0.016960 -0.005903   \n",
       "number of open complaints                    -0.030616  0.008425   \n",
       "number of policies                            0.016024 -0.009960   \n",
       "total claim amount                            0.232626 -0.354141   \n",
       "month                                        -0.009234 -0.000443   \n",
       "response rate                                -0.007765  0.011156   \n",
       "\n",
       "                               monthly premium auto  months since last claim  \\\n",
       "customer lifetime value                    0.403069                 0.017189   \n",
       "income                                    -0.009788                -0.016671   \n",
       "monthly premium auto                       1.000000                 0.007845   \n",
       "months since last claim                    0.007845                 1.000000   \n",
       "months since policy inception              0.018953                -0.036081   \n",
       "number of open complaints                 -0.010059                 0.036455   \n",
       "number of policies                        -0.020505                -0.000649   \n",
       "total claim amount                         0.631799                 0.007210   \n",
       "month                                      0.007253                -0.022099   \n",
       "response rate                              0.013918                -0.011572   \n",
       "\n",
       "                               months since policy inception  \\\n",
       "customer lifetime value                             0.016960   \n",
       "income                                             -0.005903   \n",
       "monthly premium auto                                0.018953   \n",
       "months since last claim                            -0.036081   \n",
       "months since policy inception                       1.000000   \n",
       "number of open complaints                           0.004165   \n",
       "number of policies                                 -0.009123   \n",
       "total claim amount                                  0.003095   \n",
       "month                                               0.015163   \n",
       "response rate                                      -0.004875   \n",
       "\n",
       "                               number of open complaints  number of policies  \\\n",
       "customer lifetime value                        -0.030616            0.016024   \n",
       "income                                          0.008425           -0.009960   \n",
       "monthly premium auto                           -0.010059           -0.020505   \n",
       "months since last claim                         0.036455           -0.000649   \n",
       "months since policy inception                   0.004165           -0.009123   \n",
       "number of open complaints                       1.000000            0.001681   \n",
       "number of policies                              0.001681            1.000000   \n",
       "total claim amount                             -0.012380           -0.008923   \n",
       "month                                          -0.005802            0.005127   \n",
       "response rate                                  -0.004419           -0.018650   \n",
       "\n",
       "                               total claim amount     month  response rate  \n",
       "customer lifetime value                  0.232626 -0.009234      -0.007765  \n",
       "income                                  -0.354141 -0.000443       0.011156  \n",
       "monthly premium auto                     0.631799  0.007253       0.013918  \n",
       "months since last claim                  0.007210 -0.022099      -0.011572  \n",
       "months since policy inception            0.003095  0.015163      -0.004875  \n",
       "number of open complaints               -0.012380 -0.005802      -0.004419  \n",
       "number of policies                      -0.008923  0.005127      -0.018650  \n",
       "total claim amount                       1.000000  0.001425       0.016416  \n",
       "month                                    0.001425  1.000000      -0.032981  \n",
       "response rate                            0.016416 -0.032981       1.000000  "
      ]
     },
     "execution_count": 156,
     "metadata": {},
     "output_type": "execute_result"
    }
   ],
   "source": [
    "# Drop one of the two features that show a high correlation between them (greater than 0.9). Write code for both the correlation matrix and for seaborn heatmap. If there is no pair of features that have a high correlation, then do not drop any features\n",
    "correlations_matrix = numerical.corr()\n",
    "correlations_matrix"
   ]
  },
  {
   "cell_type": "code",
   "execution_count": 201,
   "id": "ff7faad5",
   "metadata": {},
   "outputs": [
    {
     "data": {
      "image/png": "[encoded data removed]",
      "text/plain": [
       "<Figure size 640x480 with 2 Axes>"
      ]
     },
     "metadata": {},
     "output_type": "display_data"
    }
   ],
   "source": [
    "sns.heatmap(correlations_matrix, annot=True)\n",
    "plt.show()"
   ]
  },
  {
   "cell_type": "markdown",
   "id": "8d9c2ac3",
   "metadata": {},
   "source": [
    "**Lab | Customer Analysis Round 5**"
   ]
  },
  {
   "cell_type": "code",
   "execution_count": 158,
   "id": "658f5277",
   "metadata": {},
   "outputs": [],
   "source": [
    "# X-y split\n",
    "from sklearn.preprocessing import MinMaxScaler \n",
    "from sklearn.preprocessing import StandardScaler\n",
    "y = numerical['total claim amount']\n",
    "X = numerical.drop(['total claim amount'], axis=1)\n",
    "X_num = X.select_dtypes(include = np.number)\n",
    "X_cat = categoricals"
   ]
  },
  {
   "cell_type": "code",
   "execution_count": 159,
   "id": "8079b727",
   "metadata": {},
   "outputs": [
    {
     "data": {
      "text/html": [
       "<div>\n",
       "<style scoped>\n",
       "    .dataframe tbody tr th:only-of-type {\n",
       "        vertical-align: middle;\n",
       "    }\n",
       "\n",
       "    .dataframe tbody tr th {\n",
       "        vertical-align: top;\n",
       "    }\n",
       "\n",
       "    .dataframe thead th {\n",
       "        text-align: right;\n",
       "    }\n",
       "</style>\n",
       "<table border=\"1\" class=\"dataframe\">\n",
       "  <thead>\n",
       "    <tr style=\"text-align: right;\">\n",
       "      <th></th>\n",
       "      <th>customer lifetime value</th>\n",
       "      <th>income</th>\n",
       "      <th>monthly premium auto</th>\n",
       "      <th>months since last claim</th>\n",
       "      <th>months since policy inception</th>\n",
       "      <th>number of open complaints</th>\n",
       "      <th>number of policies</th>\n",
       "      <th>month</th>\n",
       "      <th>response rate</th>\n",
       "    </tr>\n",
       "  </thead>\n",
       "  <tbody>\n",
       "    <tr>\n",
       "      <th>0</th>\n",
       "      <td>4809.216960</td>\n",
       "      <td>48029</td>\n",
       "      <td>61</td>\n",
       "      <td>7.0</td>\n",
       "      <td>52</td>\n",
       "      <td>0.0</td>\n",
       "      <td>9</td>\n",
       "      <td>2</td>\n",
       "      <td>0</td>\n",
       "    </tr>\n",
       "    <tr>\n",
       "      <th>1</th>\n",
       "      <td>2228.525238</td>\n",
       "      <td>0</td>\n",
       "      <td>64</td>\n",
       "      <td>3.0</td>\n",
       "      <td>26</td>\n",
       "      <td>0.0</td>\n",
       "      <td>1</td>\n",
       "      <td>1</td>\n",
       "      <td>0</td>\n",
       "    </tr>\n",
       "    <tr>\n",
       "      <th>2</th>\n",
       "      <td>14947.917300</td>\n",
       "      <td>22139</td>\n",
       "      <td>100</td>\n",
       "      <td>34.0</td>\n",
       "      <td>31</td>\n",
       "      <td>0.0</td>\n",
       "      <td>2</td>\n",
       "      <td>2</td>\n",
       "      <td>0</td>\n",
       "    </tr>\n",
       "    <tr>\n",
       "      <th>3</th>\n",
       "      <td>22332.439460</td>\n",
       "      <td>49078</td>\n",
       "      <td>97</td>\n",
       "      <td>10.0</td>\n",
       "      <td>3</td>\n",
       "      <td>0.0</td>\n",
       "      <td>2</td>\n",
       "      <td>1</td>\n",
       "      <td>1</td>\n",
       "    </tr>\n",
       "    <tr>\n",
       "      <th>4</th>\n",
       "      <td>9025.067525</td>\n",
       "      <td>23675</td>\n",
       "      <td>117</td>\n",
       "      <td>0.0</td>\n",
       "      <td>31</td>\n",
       "      <td>0.0</td>\n",
       "      <td>7</td>\n",
       "      <td>1</td>\n",
       "      <td>0</td>\n",
       "    </tr>\n",
       "    <tr>\n",
       "      <th>...</th>\n",
       "      <td>...</td>\n",
       "      <td>...</td>\n",
       "      <td>...</td>\n",
       "      <td>...</td>\n",
       "      <td>...</td>\n",
       "      <td>...</td>\n",
       "      <td>...</td>\n",
       "      <td>...</td>\n",
       "      <td>...</td>\n",
       "    </tr>\n",
       "    <tr>\n",
       "      <th>10905</th>\n",
       "      <td>15563.369440</td>\n",
       "      <td>0</td>\n",
       "      <td>253</td>\n",
       "      <td>0.0</td>\n",
       "      <td>40</td>\n",
       "      <td>0.0</td>\n",
       "      <td>7</td>\n",
       "      <td>1</td>\n",
       "      <td>0</td>\n",
       "    </tr>\n",
       "    <tr>\n",
       "      <th>10906</th>\n",
       "      <td>5259.444853</td>\n",
       "      <td>61146</td>\n",
       "      <td>65</td>\n",
       "      <td>7.0</td>\n",
       "      <td>68</td>\n",
       "      <td>0.0</td>\n",
       "      <td>6</td>\n",
       "      <td>1</td>\n",
       "      <td>0</td>\n",
       "    </tr>\n",
       "    <tr>\n",
       "      <th>10907</th>\n",
       "      <td>23893.304100</td>\n",
       "      <td>39837</td>\n",
       "      <td>201</td>\n",
       "      <td>11.0</td>\n",
       "      <td>63</td>\n",
       "      <td>0.0</td>\n",
       "      <td>2</td>\n",
       "      <td>2</td>\n",
       "      <td>0</td>\n",
       "    </tr>\n",
       "    <tr>\n",
       "      <th>10908</th>\n",
       "      <td>11971.977650</td>\n",
       "      <td>64195</td>\n",
       "      <td>158</td>\n",
       "      <td>0.0</td>\n",
       "      <td>27</td>\n",
       "      <td>4.0</td>\n",
       "      <td>6</td>\n",
       "      <td>2</td>\n",
       "      <td>0</td>\n",
       "    </tr>\n",
       "    <tr>\n",
       "      <th>10909</th>\n",
       "      <td>6857.519928</td>\n",
       "      <td>0</td>\n",
       "      <td>101</td>\n",
       "      <td>31.0</td>\n",
       "      <td>1</td>\n",
       "      <td>0.0</td>\n",
       "      <td>3</td>\n",
       "      <td>1</td>\n",
       "      <td>0</td>\n",
       "    </tr>\n",
       "  </tbody>\n",
       "</table>\n",
       "<p>10910 rows × 9 columns</p>\n",
       "</div>"
      ],
      "text/plain": [
       "       customer lifetime value  income  monthly premium auto  \\\n",
       "0                  4809.216960   48029                    61   \n",
       "1                  2228.525238       0                    64   \n",
       "2                 14947.917300   22139                   100   \n",
       "3                 22332.439460   49078                    97   \n",
       "4                  9025.067525   23675                   117   \n",
       "...                        ...     ...                   ...   \n",
       "10905             15563.369440       0                   253   \n",
       "10906              5259.444853   61146                    65   \n",
       "10907             23893.304100   39837                   201   \n",
       "10908             11971.977650   64195                   158   \n",
       "10909              6857.519928       0                   101   \n",
       "\n",
       "       months since last claim  months since policy inception  \\\n",
       "0                          7.0                             52   \n",
       "1                          3.0                             26   \n",
       "2                         34.0                             31   \n",
       "3                         10.0                              3   \n",
       "4                          0.0                             31   \n",
       "...                        ...                            ...   \n",
       "10905                      0.0                             40   \n",
       "10906                      7.0                             68   \n",
       "10907                     11.0                             63   \n",
       "10908                      0.0                             27   \n",
       "10909                     31.0                              1   \n",
       "\n",
       "       number of open complaints  number of policies  month  response rate  \n",
       "0                            0.0                   9      2              0  \n",
       "1                            0.0                   1      1              0  \n",
       "2                            0.0                   2      2              0  \n",
       "3                            0.0                   2      1              1  \n",
       "4                            0.0                   7      1              0  \n",
       "...                          ...                 ...    ...            ...  \n",
       "10905                        0.0                   7      1              0  \n",
       "10906                        0.0                   6      1              0  \n",
       "10907                        0.0                   2      2              0  \n",
       "10908                        4.0                   6      2              0  \n",
       "10909                        0.0                   3      1              0  \n",
       "\n",
       "[10910 rows x 9 columns]"
      ]
     },
     "execution_count": 159,
     "metadata": {},
     "output_type": "execute_result"
    }
   ],
   "source": [
    "X_num"
   ]
  },
  {
   "cell_type": "code",
   "execution_count": 160,
   "id": "687ec708",
   "metadata": {},
   "outputs": [
    {
     "name": "stdout",
     "output_type": "stream",
     "text": [
      "(10910, 9)\n"
     ]
    }
   ],
   "source": [
    "# Normalize (numerical).\n",
    "transformer = MinMaxScaler().fit(X_num)\n",
    "x_normalized = transformer.transform(X_num)\n",
    "print(x_normalized.shape)\n",
    "x_normalized = pd.DataFrame(x_normalized, columns=X_num.columns)"
   ]
  },
  {
   "cell_type": "code",
   "execution_count": 161,
   "id": "fe0d25c6",
   "metadata": {},
   "outputs": [],
   "source": [
    "#Another way to normalize\n",
    "# transformer = StandardScaler().fit(X_num)\n",
    "# x_standardized = transformer.transform(X_num)\n",
    "# print(x_standardized.shape)\n",
    "# x_standardized = pd.DataFrame(x_standardized, columns=X_num.columns)"
   ]
  },
  {
   "cell_type": "markdown",
   "id": "c0f21e44",
   "metadata": {},
   "source": [
    "# Round 6"
   ]
  },
  {
   "cell_type": "code",
   "execution_count": 162,
   "id": "1c00b735",
   "metadata": {},
   "outputs": [
    {
     "data": {
      "text/html": [
       "<div>\n",
       "<style scoped>\n",
       "    .dataframe tbody tr th:only-of-type {\n",
       "        vertical-align: middle;\n",
       "    }\n",
       "\n",
       "    .dataframe tbody tr th {\n",
       "        vertical-align: top;\n",
       "    }\n",
       "\n",
       "    .dataframe thead th {\n",
       "        text-align: right;\n",
       "    }\n",
       "</style>\n",
       "<table border=\"1\" class=\"dataframe\">\n",
       "  <thead>\n",
       "    <tr style=\"text-align: right;\">\n",
       "      <th></th>\n",
       "      <th>customer</th>\n",
       "      <th>state</th>\n",
       "      <th>response</th>\n",
       "      <th>coverage</th>\n",
       "      <th>education</th>\n",
       "      <th>employmentstatus</th>\n",
       "      <th>gender</th>\n",
       "      <th>location code</th>\n",
       "      <th>marital status</th>\n",
       "      <th>policy type</th>\n",
       "      <th>policy</th>\n",
       "      <th>renew offer type</th>\n",
       "      <th>sales channel</th>\n",
       "      <th>vehicle class</th>\n",
       "      <th>vehicle size</th>\n",
       "      <th>vehicle type</th>\n",
       "    </tr>\n",
       "  </thead>\n",
       "  <tbody>\n",
       "    <tr>\n",
       "      <th>0</th>\n",
       "      <td>DK49336</td>\n",
       "      <td>Arizona</td>\n",
       "      <td>No</td>\n",
       "      <td>Basic</td>\n",
       "      <td>College</td>\n",
       "      <td>Employed</td>\n",
       "      <td>M</td>\n",
       "      <td>Suburban</td>\n",
       "      <td>Married</td>\n",
       "      <td>Corporate Auto</td>\n",
       "      <td>Corporate L3</td>\n",
       "      <td>Offer3</td>\n",
       "      <td>Agent</td>\n",
       "      <td>Four-Door Car</td>\n",
       "      <td>Medsize</td>\n",
       "      <td>M</td>\n",
       "    </tr>\n",
       "    <tr>\n",
       "      <th>1</th>\n",
       "      <td>KX64629</td>\n",
       "      <td>California</td>\n",
       "      <td>No</td>\n",
       "      <td>Basic</td>\n",
       "      <td>College</td>\n",
       "      <td>Unemployed</td>\n",
       "      <td>F</td>\n",
       "      <td>Suburban</td>\n",
       "      <td>Single</td>\n",
       "      <td>Personal Auto</td>\n",
       "      <td>Personal L3</td>\n",
       "      <td>Offer4</td>\n",
       "      <td>Call Center</td>\n",
       "      <td>Four-Door Car</td>\n",
       "      <td>Medsize</td>\n",
       "      <td>M</td>\n",
       "    </tr>\n",
       "    <tr>\n",
       "      <th>2</th>\n",
       "      <td>LZ68649</td>\n",
       "      <td>Washington</td>\n",
       "      <td>No</td>\n",
       "      <td>Basic</td>\n",
       "      <td>Bachelor</td>\n",
       "      <td>Employed</td>\n",
       "      <td>M</td>\n",
       "      <td>Suburban</td>\n",
       "      <td>Single</td>\n",
       "      <td>Personal Auto</td>\n",
       "      <td>Personal L3</td>\n",
       "      <td>Offer3</td>\n",
       "      <td>Call Center</td>\n",
       "      <td>SUV</td>\n",
       "      <td>Medsize</td>\n",
       "      <td>A</td>\n",
       "    </tr>\n",
       "    <tr>\n",
       "      <th>3</th>\n",
       "      <td>XL78013</td>\n",
       "      <td>Oregon</td>\n",
       "      <td>Yes</td>\n",
       "      <td>Extended</td>\n",
       "      <td>College</td>\n",
       "      <td>Employed</td>\n",
       "      <td>M</td>\n",
       "      <td>Suburban</td>\n",
       "      <td>Single</td>\n",
       "      <td>Corporate Auto</td>\n",
       "      <td>Corporate L3</td>\n",
       "      <td>Offer2</td>\n",
       "      <td>Branch</td>\n",
       "      <td>Four-Door Car</td>\n",
       "      <td>Medsize</td>\n",
       "      <td>A</td>\n",
       "    </tr>\n",
       "    <tr>\n",
       "      <th>4</th>\n",
       "      <td>QA50777</td>\n",
       "      <td>Oregon</td>\n",
       "      <td>No</td>\n",
       "      <td>Premium</td>\n",
       "      <td>Bachelor</td>\n",
       "      <td>Medical Leave</td>\n",
       "      <td>F</td>\n",
       "      <td>Suburban</td>\n",
       "      <td>Married</td>\n",
       "      <td>Personal Auto</td>\n",
       "      <td>Personal L2</td>\n",
       "      <td>Offer1</td>\n",
       "      <td>Branch</td>\n",
       "      <td>Four-Door Car</td>\n",
       "      <td>Medsize</td>\n",
       "      <td>M</td>\n",
       "    </tr>\n",
       "  </tbody>\n",
       "</table>\n",
       "</div>"
      ],
      "text/plain": [
       "  customer       state response  coverage education employmentstatus gender  \\\n",
       "0  DK49336     Arizona       No     Basic   College         Employed      M   \n",
       "1  KX64629  California       No     Basic   College       Unemployed      F   \n",
       "2  LZ68649  Washington       No     Basic  Bachelor         Employed      M   \n",
       "3  XL78013      Oregon      Yes  Extended   College         Employed      M   \n",
       "4  QA50777      Oregon       No   Premium  Bachelor    Medical Leave      F   \n",
       "\n",
       "  location code marital status     policy type        policy renew offer type  \\\n",
       "0      Suburban        Married  Corporate Auto  Corporate L3           Offer3   \n",
       "1      Suburban         Single   Personal Auto   Personal L3           Offer4   \n",
       "2      Suburban         Single   Personal Auto   Personal L3           Offer3   \n",
       "3      Suburban         Single  Corporate Auto  Corporate L3           Offer2   \n",
       "4      Suburban        Married   Personal Auto   Personal L2           Offer1   \n",
       "\n",
       "  sales channel  vehicle class vehicle size vehicle type  \n",
       "0         Agent  Four-Door Car      Medsize            M  \n",
       "1   Call Center  Four-Door Car      Medsize            M  \n",
       "2   Call Center            SUV      Medsize            A  \n",
       "3        Branch  Four-Door Car      Medsize            A  \n",
       "4        Branch  Four-Door Car      Medsize            M  "
      ]
     },
     "execution_count": 162,
     "metadata": {},
     "output_type": "execute_result"
    }
   ],
   "source": [
    "X_cat.head()"
   ]
  },
  {
   "cell_type": "code",
   "execution_count": 163,
   "id": "7a563900",
   "metadata": {},
   "outputs": [
    {
     "data": {
      "text/html": [
       "<div>\n",
       "<style scoped>\n",
       "    .dataframe tbody tr th:only-of-type {\n",
       "        vertical-align: middle;\n",
       "    }\n",
       "\n",
       "    .dataframe tbody tr th {\n",
       "        vertical-align: top;\n",
       "    }\n",
       "\n",
       "    .dataframe thead th {\n",
       "        text-align: right;\n",
       "    }\n",
       "</style>\n",
       "<table border=\"1\" class=\"dataframe\">\n",
       "  <thead>\n",
       "    <tr style=\"text-align: right;\">\n",
       "      <th></th>\n",
       "      <th>state</th>\n",
       "      <th>response</th>\n",
       "      <th>coverage</th>\n",
       "      <th>education</th>\n",
       "      <th>employmentstatus</th>\n",
       "      <th>gender</th>\n",
       "      <th>location code</th>\n",
       "      <th>marital status</th>\n",
       "      <th>policy type</th>\n",
       "      <th>policy</th>\n",
       "      <th>renew offer type</th>\n",
       "      <th>sales channel</th>\n",
       "      <th>vehicle class</th>\n",
       "      <th>vehicle size</th>\n",
       "      <th>vehicle type</th>\n",
       "    </tr>\n",
       "  </thead>\n",
       "  <tbody>\n",
       "    <tr>\n",
       "      <th>0</th>\n",
       "      <td>Arizona</td>\n",
       "      <td>No</td>\n",
       "      <td>Basic</td>\n",
       "      <td>College</td>\n",
       "      <td>Employed</td>\n",
       "      <td>M</td>\n",
       "      <td>Suburban</td>\n",
       "      <td>Married</td>\n",
       "      <td>Corporate Auto</td>\n",
       "      <td>Corporate L3</td>\n",
       "      <td>Offer3</td>\n",
       "      <td>Agent</td>\n",
       "      <td>Four-Door Car</td>\n",
       "      <td>Medsize</td>\n",
       "      <td>M</td>\n",
       "    </tr>\n",
       "    <tr>\n",
       "      <th>1</th>\n",
       "      <td>California</td>\n",
       "      <td>No</td>\n",
       "      <td>Basic</td>\n",
       "      <td>College</td>\n",
       "      <td>Unemployed</td>\n",
       "      <td>F</td>\n",
       "      <td>Suburban</td>\n",
       "      <td>Single</td>\n",
       "      <td>Personal Auto</td>\n",
       "      <td>Personal L3</td>\n",
       "      <td>Offer4</td>\n",
       "      <td>Call Center</td>\n",
       "      <td>Four-Door Car</td>\n",
       "      <td>Medsize</td>\n",
       "      <td>M</td>\n",
       "    </tr>\n",
       "    <tr>\n",
       "      <th>2</th>\n",
       "      <td>Washington</td>\n",
       "      <td>No</td>\n",
       "      <td>Basic</td>\n",
       "      <td>Bachelor</td>\n",
       "      <td>Employed</td>\n",
       "      <td>M</td>\n",
       "      <td>Suburban</td>\n",
       "      <td>Single</td>\n",
       "      <td>Personal Auto</td>\n",
       "      <td>Personal L3</td>\n",
       "      <td>Offer3</td>\n",
       "      <td>Call Center</td>\n",
       "      <td>SUV</td>\n",
       "      <td>Medsize</td>\n",
       "      <td>A</td>\n",
       "    </tr>\n",
       "    <tr>\n",
       "      <th>3</th>\n",
       "      <td>Oregon</td>\n",
       "      <td>Yes</td>\n",
       "      <td>Extended</td>\n",
       "      <td>College</td>\n",
       "      <td>Employed</td>\n",
       "      <td>M</td>\n",
       "      <td>Suburban</td>\n",
       "      <td>Single</td>\n",
       "      <td>Corporate Auto</td>\n",
       "      <td>Corporate L3</td>\n",
       "      <td>Offer2</td>\n",
       "      <td>Branch</td>\n",
       "      <td>Four-Door Car</td>\n",
       "      <td>Medsize</td>\n",
       "      <td>A</td>\n",
       "    </tr>\n",
       "    <tr>\n",
       "      <th>4</th>\n",
       "      <td>Oregon</td>\n",
       "      <td>No</td>\n",
       "      <td>Premium</td>\n",
       "      <td>Bachelor</td>\n",
       "      <td>Medical Leave</td>\n",
       "      <td>F</td>\n",
       "      <td>Suburban</td>\n",
       "      <td>Married</td>\n",
       "      <td>Personal Auto</td>\n",
       "      <td>Personal L2</td>\n",
       "      <td>Offer1</td>\n",
       "      <td>Branch</td>\n",
       "      <td>Four-Door Car</td>\n",
       "      <td>Medsize</td>\n",
       "      <td>M</td>\n",
       "    </tr>\n",
       "    <tr>\n",
       "      <th>...</th>\n",
       "      <td>...</td>\n",
       "      <td>...</td>\n",
       "      <td>...</td>\n",
       "      <td>...</td>\n",
       "      <td>...</td>\n",
       "      <td>...</td>\n",
       "      <td>...</td>\n",
       "      <td>...</td>\n",
       "      <td>...</td>\n",
       "      <td>...</td>\n",
       "      <td>...</td>\n",
       "      <td>...</td>\n",
       "      <td>...</td>\n",
       "      <td>...</td>\n",
       "      <td>...</td>\n",
       "    </tr>\n",
       "    <tr>\n",
       "      <th>10905</th>\n",
       "      <td>Nevada</td>\n",
       "      <td>No</td>\n",
       "      <td>Premium</td>\n",
       "      <td>Bachelor</td>\n",
       "      <td>Unemployed</td>\n",
       "      <td>F</td>\n",
       "      <td>Suburban</td>\n",
       "      <td>Married</td>\n",
       "      <td>Personal Auto</td>\n",
       "      <td>Personal L1</td>\n",
       "      <td>Offer3</td>\n",
       "      <td>Web</td>\n",
       "      <td>Luxury Car</td>\n",
       "      <td>Medsize</td>\n",
       "      <td>A</td>\n",
       "    </tr>\n",
       "    <tr>\n",
       "      <th>10906</th>\n",
       "      <td>Oregon</td>\n",
       "      <td>No</td>\n",
       "      <td>Basic</td>\n",
       "      <td>College</td>\n",
       "      <td>Employed</td>\n",
       "      <td>F</td>\n",
       "      <td>Urban</td>\n",
       "      <td>Married</td>\n",
       "      <td>Personal Auto</td>\n",
       "      <td>Personal L3</td>\n",
       "      <td>Offer2</td>\n",
       "      <td>Branch</td>\n",
       "      <td>Four-Door Car</td>\n",
       "      <td>Medsize</td>\n",
       "      <td>A</td>\n",
       "    </tr>\n",
       "    <tr>\n",
       "      <th>10907</th>\n",
       "      <td>Arizona</td>\n",
       "      <td>No</td>\n",
       "      <td>Extended</td>\n",
       "      <td>Bachelor</td>\n",
       "      <td>Employed</td>\n",
       "      <td>F</td>\n",
       "      <td>Rural</td>\n",
       "      <td>Married</td>\n",
       "      <td>Corporate Auto</td>\n",
       "      <td>Corporate L3</td>\n",
       "      <td>Offer1</td>\n",
       "      <td>Web</td>\n",
       "      <td>Luxury SUV</td>\n",
       "      <td>Medsize</td>\n",
       "      <td>M</td>\n",
       "    </tr>\n",
       "    <tr>\n",
       "      <th>10908</th>\n",
       "      <td>California</td>\n",
       "      <td>No</td>\n",
       "      <td>Premium</td>\n",
       "      <td>College</td>\n",
       "      <td>Employed</td>\n",
       "      <td>F</td>\n",
       "      <td>Urban</td>\n",
       "      <td>Divorced</td>\n",
       "      <td>Personal Auto</td>\n",
       "      <td>Personal L1</td>\n",
       "      <td>Offer1</td>\n",
       "      <td>Branch</td>\n",
       "      <td>SUV</td>\n",
       "      <td>Medsize</td>\n",
       "      <td>A</td>\n",
       "    </tr>\n",
       "    <tr>\n",
       "      <th>10909</th>\n",
       "      <td>California</td>\n",
       "      <td>No</td>\n",
       "      <td>Basic</td>\n",
       "      <td>Bachelor</td>\n",
       "      <td>Unemployed</td>\n",
       "      <td>M</td>\n",
       "      <td>Suburban</td>\n",
       "      <td>Single</td>\n",
       "      <td>Personal Auto</td>\n",
       "      <td>Personal L1</td>\n",
       "      <td>Offer4</td>\n",
       "      <td>Web</td>\n",
       "      <td>SUV</td>\n",
       "      <td>Medsize</td>\n",
       "      <td>M</td>\n",
       "    </tr>\n",
       "  </tbody>\n",
       "</table>\n",
       "<p>10910 rows × 15 columns</p>\n",
       "</div>"
      ],
      "text/plain": [
       "            state response  coverage education employmentstatus gender  \\\n",
       "0         Arizona       No     Basic   College         Employed      M   \n",
       "1      California       No     Basic   College       Unemployed      F   \n",
       "2      Washington       No     Basic  Bachelor         Employed      M   \n",
       "3          Oregon      Yes  Extended   College         Employed      M   \n",
       "4          Oregon       No   Premium  Bachelor    Medical Leave      F   \n",
       "...           ...      ...       ...       ...              ...    ...   \n",
       "10905      Nevada       No   Premium  Bachelor       Unemployed      F   \n",
       "10906      Oregon       No     Basic   College         Employed      F   \n",
       "10907     Arizona       No  Extended  Bachelor         Employed      F   \n",
       "10908  California       No   Premium   College         Employed      F   \n",
       "10909  California       No     Basic  Bachelor       Unemployed      M   \n",
       "\n",
       "      location code marital status     policy type        policy  \\\n",
       "0          Suburban        Married  Corporate Auto  Corporate L3   \n",
       "1          Suburban         Single   Personal Auto   Personal L3   \n",
       "2          Suburban         Single   Personal Auto   Personal L3   \n",
       "3          Suburban         Single  Corporate Auto  Corporate L3   \n",
       "4          Suburban        Married   Personal Auto   Personal L2   \n",
       "...             ...            ...             ...           ...   \n",
       "10905      Suburban        Married   Personal Auto   Personal L1   \n",
       "10906         Urban        Married   Personal Auto   Personal L3   \n",
       "10907         Rural        Married  Corporate Auto  Corporate L3   \n",
       "10908         Urban       Divorced   Personal Auto   Personal L1   \n",
       "10909      Suburban         Single   Personal Auto   Personal L1   \n",
       "\n",
       "      renew offer type sales channel  vehicle class vehicle size vehicle type  \n",
       "0               Offer3         Agent  Four-Door Car      Medsize            M  \n",
       "1               Offer4   Call Center  Four-Door Car      Medsize            M  \n",
       "2               Offer3   Call Center            SUV      Medsize            A  \n",
       "3               Offer2        Branch  Four-Door Car      Medsize            A  \n",
       "4               Offer1        Branch  Four-Door Car      Medsize            M  \n",
       "...                ...           ...            ...          ...          ...  \n",
       "10905           Offer3           Web     Luxury Car      Medsize            A  \n",
       "10906           Offer2        Branch  Four-Door Car      Medsize            A  \n",
       "10907           Offer1           Web     Luxury SUV      Medsize            M  \n",
       "10908           Offer1        Branch            SUV      Medsize            A  \n",
       "10909           Offer4           Web            SUV      Medsize            M  \n",
       "\n",
       "[10910 rows x 15 columns]"
      ]
     },
     "execution_count": 163,
     "metadata": {},
     "output_type": "execute_result"
    }
   ],
   "source": [
    "X_cat = X_cat.drop([\"customer\"], axis=1)\n",
    "X_cat"
   ]
  },
  {
   "cell_type": "code",
   "execution_count": 164,
   "id": "7d6c9798",
   "metadata": {},
   "outputs": [
    {
     "name": "stderr",
     "output_type": "stream",
     "text": [
      "C:\\Users\\gorka\\anaconda3\\lib\\site-packages\\sklearn\\utils\\deprecation.py:87: FutureWarning: Function get_feature_names is deprecated; get_feature_names is deprecated in 1.0 and will be removed in 1.2. Please use get_feature_names_out instead.\n",
      "  warnings.warn(msg, category=FutureWarning)\n"
     ]
    },
    {
     "data": {
      "text/html": [
       "<div>\n",
       "<style scoped>\n",
       "    .dataframe tbody tr th:only-of-type {\n",
       "        vertical-align: middle;\n",
       "    }\n",
       "\n",
       "    .dataframe tbody tr th {\n",
       "        vertical-align: top;\n",
       "    }\n",
       "\n",
       "    .dataframe thead th {\n",
       "        text-align: right;\n",
       "    }\n",
       "</style>\n",
       "<table border=\"1\" class=\"dataframe\">\n",
       "  <thead>\n",
       "    <tr style=\"text-align: right;\">\n",
       "      <th></th>\n",
       "      <th>state_California</th>\n",
       "      <th>state_Nevada</th>\n",
       "      <th>state_Oregon</th>\n",
       "      <th>state_Washington</th>\n",
       "      <th>response_Yes</th>\n",
       "      <th>coverage_Extended</th>\n",
       "      <th>coverage_Premium</th>\n",
       "      <th>education_College</th>\n",
       "      <th>education_Doctor</th>\n",
       "      <th>education_High School or Below</th>\n",
       "      <th>...</th>\n",
       "      <th>sales channel_Call Center</th>\n",
       "      <th>sales channel_Web</th>\n",
       "      <th>vehicle class_Luxury Car</th>\n",
       "      <th>vehicle class_Luxury SUV</th>\n",
       "      <th>vehicle class_SUV</th>\n",
       "      <th>vehicle class_Sports Car</th>\n",
       "      <th>vehicle class_Two-Door Car</th>\n",
       "      <th>vehicle size_Medsize</th>\n",
       "      <th>vehicle size_Small</th>\n",
       "      <th>vehicle type_M</th>\n",
       "    </tr>\n",
       "  </thead>\n",
       "  <tbody>\n",
       "    <tr>\n",
       "      <th>0</th>\n",
       "      <td>0.0</td>\n",
       "      <td>0.0</td>\n",
       "      <td>0.0</td>\n",
       "      <td>0.0</td>\n",
       "      <td>0.0</td>\n",
       "      <td>0.0</td>\n",
       "      <td>0.0</td>\n",
       "      <td>1.0</td>\n",
       "      <td>0.0</td>\n",
       "      <td>0.0</td>\n",
       "      <td>...</td>\n",
       "      <td>0.0</td>\n",
       "      <td>0.0</td>\n",
       "      <td>0.0</td>\n",
       "      <td>0.0</td>\n",
       "      <td>0.0</td>\n",
       "      <td>0.0</td>\n",
       "      <td>0.0</td>\n",
       "      <td>1.0</td>\n",
       "      <td>0.0</td>\n",
       "      <td>1.0</td>\n",
       "    </tr>\n",
       "    <tr>\n",
       "      <th>1</th>\n",
       "      <td>1.0</td>\n",
       "      <td>0.0</td>\n",
       "      <td>0.0</td>\n",
       "      <td>0.0</td>\n",
       "      <td>0.0</td>\n",
       "      <td>0.0</td>\n",
       "      <td>0.0</td>\n",
       "      <td>1.0</td>\n",
       "      <td>0.0</td>\n",
       "      <td>0.0</td>\n",
       "      <td>...</td>\n",
       "      <td>1.0</td>\n",
       "      <td>0.0</td>\n",
       "      <td>0.0</td>\n",
       "      <td>0.0</td>\n",
       "      <td>0.0</td>\n",
       "      <td>0.0</td>\n",
       "      <td>0.0</td>\n",
       "      <td>1.0</td>\n",
       "      <td>0.0</td>\n",
       "      <td>1.0</td>\n",
       "    </tr>\n",
       "    <tr>\n",
       "      <th>2</th>\n",
       "      <td>0.0</td>\n",
       "      <td>0.0</td>\n",
       "      <td>0.0</td>\n",
       "      <td>1.0</td>\n",
       "      <td>0.0</td>\n",
       "      <td>0.0</td>\n",
       "      <td>0.0</td>\n",
       "      <td>0.0</td>\n",
       "      <td>0.0</td>\n",
       "      <td>0.0</td>\n",
       "      <td>...</td>\n",
       "      <td>1.0</td>\n",
       "      <td>0.0</td>\n",
       "      <td>0.0</td>\n",
       "      <td>0.0</td>\n",
       "      <td>1.0</td>\n",
       "      <td>0.0</td>\n",
       "      <td>0.0</td>\n",
       "      <td>1.0</td>\n",
       "      <td>0.0</td>\n",
       "      <td>0.0</td>\n",
       "    </tr>\n",
       "    <tr>\n",
       "      <th>3</th>\n",
       "      <td>0.0</td>\n",
       "      <td>0.0</td>\n",
       "      <td>1.0</td>\n",
       "      <td>0.0</td>\n",
       "      <td>1.0</td>\n",
       "      <td>1.0</td>\n",
       "      <td>0.0</td>\n",
       "      <td>1.0</td>\n",
       "      <td>0.0</td>\n",
       "      <td>0.0</td>\n",
       "      <td>...</td>\n",
       "      <td>0.0</td>\n",
       "      <td>0.0</td>\n",
       "      <td>0.0</td>\n",
       "      <td>0.0</td>\n",
       "      <td>0.0</td>\n",
       "      <td>0.0</td>\n",
       "      <td>0.0</td>\n",
       "      <td>1.0</td>\n",
       "      <td>0.0</td>\n",
       "      <td>0.0</td>\n",
       "    </tr>\n",
       "    <tr>\n",
       "      <th>4</th>\n",
       "      <td>0.0</td>\n",
       "      <td>0.0</td>\n",
       "      <td>1.0</td>\n",
       "      <td>0.0</td>\n",
       "      <td>0.0</td>\n",
       "      <td>0.0</td>\n",
       "      <td>1.0</td>\n",
       "      <td>0.0</td>\n",
       "      <td>0.0</td>\n",
       "      <td>0.0</td>\n",
       "      <td>...</td>\n",
       "      <td>0.0</td>\n",
       "      <td>0.0</td>\n",
       "      <td>0.0</td>\n",
       "      <td>0.0</td>\n",
       "      <td>0.0</td>\n",
       "      <td>0.0</td>\n",
       "      <td>0.0</td>\n",
       "      <td>1.0</td>\n",
       "      <td>0.0</td>\n",
       "      <td>1.0</td>\n",
       "    </tr>\n",
       "  </tbody>\n",
       "</table>\n",
       "<p>5 rows × 44 columns</p>\n",
       "</div>"
      ],
      "text/plain": [
       "   state_California  state_Nevada  state_Oregon  state_Washington  \\\n",
       "0               0.0           0.0           0.0               0.0   \n",
       "1               1.0           0.0           0.0               0.0   \n",
       "2               0.0           0.0           0.0               1.0   \n",
       "3               0.0           0.0           1.0               0.0   \n",
       "4               0.0           0.0           1.0               0.0   \n",
       "\n",
       "   response_Yes  coverage_Extended  coverage_Premium  education_College  \\\n",
       "0           0.0                0.0               0.0                1.0   \n",
       "1           0.0                0.0               0.0                1.0   \n",
       "2           0.0                0.0               0.0                0.0   \n",
       "3           1.0                1.0               0.0                1.0   \n",
       "4           0.0                0.0               1.0                0.0   \n",
       "\n",
       "   education_Doctor  education_High School or Below  ...  \\\n",
       "0               0.0                             0.0  ...   \n",
       "1               0.0                             0.0  ...   \n",
       "2               0.0                             0.0  ...   \n",
       "3               0.0                             0.0  ...   \n",
       "4               0.0                             0.0  ...   \n",
       "\n",
       "   sales channel_Call Center  sales channel_Web  vehicle class_Luxury Car  \\\n",
       "0                        0.0                0.0                       0.0   \n",
       "1                        1.0                0.0                       0.0   \n",
       "2                        1.0                0.0                       0.0   \n",
       "3                        0.0                0.0                       0.0   \n",
       "4                        0.0                0.0                       0.0   \n",
       "\n",
       "   vehicle class_Luxury SUV  vehicle class_SUV  vehicle class_Sports Car  \\\n",
       "0                       0.0                0.0                       0.0   \n",
       "1                       0.0                0.0                       0.0   \n",
       "2                       0.0                1.0                       0.0   \n",
       "3                       0.0                0.0                       0.0   \n",
       "4                       0.0                0.0                       0.0   \n",
       "\n",
       "   vehicle class_Two-Door Car  vehicle size_Medsize  vehicle size_Small  \\\n",
       "0                         0.0                   1.0                 0.0   \n",
       "1                         0.0                   1.0                 0.0   \n",
       "2                         0.0                   1.0                 0.0   \n",
       "3                         0.0                   1.0                 0.0   \n",
       "4                         0.0                   1.0                 0.0   \n",
       "\n",
       "   vehicle type_M  \n",
       "0             1.0  \n",
       "1             1.0  \n",
       "2             0.0  \n",
       "3             0.0  \n",
       "4             1.0  \n",
       "\n",
       "[5 rows x 44 columns]"
      ]
     },
     "execution_count": 164,
     "metadata": {},
     "output_type": "execute_result"
    }
   ],
   "source": [
    "from sklearn.preprocessing import OneHotEncoder\n",
    "encoder = OneHotEncoder(drop='first').fit(X_cat)\n",
    "\n",
    "cols = encoder.get_feature_names(input_features=X_cat.columns)\n",
    "\n",
    "X_cat_encode = pd.DataFrame(encoder.transform(X_cat).toarray(),columns=cols)\n",
    "\n",
    "X_cat_encode.head()"
   ]
  },
  {
   "cell_type": "code",
   "execution_count": 165,
   "id": "ac1a12c5",
   "metadata": {},
   "outputs": [],
   "source": [
    "X = pd.concat([x_normalized, X_cat_encode], axis=1)"
   ]
  },
  {
   "cell_type": "code",
   "execution_count": 166,
   "id": "010f897d",
   "metadata": {},
   "outputs": [
    {
     "data": {
      "text/plain": [
       "0    292.800000\n",
       "1    744.924331\n",
       "2    480.000000\n",
       "3    484.013411\n",
       "4    707.925645\n",
       "Name: total claim amount, dtype: float64"
      ]
     },
     "execution_count": 166,
     "metadata": {},
     "output_type": "execute_result"
    }
   ],
   "source": [
    "y = file1['total claim amount']\n",
    "y.head()"
   ]
  },
  {
   "cell_type": "code",
   "execution_count": 167,
   "id": "77906586",
   "metadata": {},
   "outputs": [],
   "source": [
    "from sklearn.model_selection import train_test_split\n",
    "X_train, X_test, y_train, y_test = train_test_split(X, y, test_size=0.2)"
   ]
  },
  {
   "cell_type": "code",
   "execution_count": 168,
   "id": "dd81184d",
   "metadata": {},
   "outputs": [
    {
     "name": "stdout",
     "output_type": "stream",
     "text": [
      "(8728, 53)\n",
      "(2182, 53)\n",
      "(8728,)\n",
      "(2182,)\n"
     ]
    }
   ],
   "source": [
    "print(X_train.shape)\n",
    "print(X_test.shape)\n",
    "print(y_train.shape)\n",
    "print(y_test.shape)"
   ]
  },
  {
   "cell_type": "code",
   "execution_count": 169,
   "id": "474fded7",
   "metadata": {},
   "outputs": [
    {
     "data": {
      "text/html": [
       "<div>\n",
       "<style scoped>\n",
       "    .dataframe tbody tr th:only-of-type {\n",
       "        vertical-align: middle;\n",
       "    }\n",
       "\n",
       "    .dataframe tbody tr th {\n",
       "        vertical-align: top;\n",
       "    }\n",
       "\n",
       "    .dataframe thead th {\n",
       "        text-align: right;\n",
       "    }\n",
       "</style>\n",
       "<table border=\"1\" class=\"dataframe\">\n",
       "  <thead>\n",
       "    <tr style=\"text-align: right;\">\n",
       "      <th></th>\n",
       "      <th>customer lifetime value</th>\n",
       "      <th>income</th>\n",
       "      <th>monthly premium auto</th>\n",
       "      <th>months since last claim</th>\n",
       "      <th>months since policy inception</th>\n",
       "      <th>number of open complaints</th>\n",
       "      <th>number of policies</th>\n",
       "      <th>month</th>\n",
       "      <th>response rate</th>\n",
       "      <th>state_California</th>\n",
       "      <th>...</th>\n",
       "      <th>sales channel_Call Center</th>\n",
       "      <th>sales channel_Web</th>\n",
       "      <th>vehicle class_Luxury Car</th>\n",
       "      <th>vehicle class_Luxury SUV</th>\n",
       "      <th>vehicle class_SUV</th>\n",
       "      <th>vehicle class_Sports Car</th>\n",
       "      <th>vehicle class_Two-Door Car</th>\n",
       "      <th>vehicle size_Medsize</th>\n",
       "      <th>vehicle size_Small</th>\n",
       "      <th>vehicle type_M</th>\n",
       "    </tr>\n",
       "  </thead>\n",
       "  <tbody>\n",
       "    <tr>\n",
       "      <th>7272</th>\n",
       "      <td>0.038995</td>\n",
       "      <td>0.577200</td>\n",
       "      <td>0.270042</td>\n",
       "      <td>0.285714</td>\n",
       "      <td>0.262626</td>\n",
       "      <td>0.0</td>\n",
       "      <td>0.00</td>\n",
       "      <td>0.0</td>\n",
       "      <td>1.0</td>\n",
       "      <td>0.0</td>\n",
       "      <td>...</td>\n",
       "      <td>0.0</td>\n",
       "      <td>0.0</td>\n",
       "      <td>0.0</td>\n",
       "      <td>0.0</td>\n",
       "      <td>1.0</td>\n",
       "      <td>0.0</td>\n",
       "      <td>0.0</td>\n",
       "      <td>1.0</td>\n",
       "      <td>0.0</td>\n",
       "      <td>1.0</td>\n",
       "    </tr>\n",
       "    <tr>\n",
       "      <th>4104</th>\n",
       "      <td>0.011243</td>\n",
       "      <td>0.504066</td>\n",
       "      <td>0.037975</td>\n",
       "      <td>0.971429</td>\n",
       "      <td>0.777778</td>\n",
       "      <td>0.0</td>\n",
       "      <td>0.00</td>\n",
       "      <td>0.0</td>\n",
       "      <td>0.0</td>\n",
       "      <td>0.0</td>\n",
       "      <td>...</td>\n",
       "      <td>0.0</td>\n",
       "      <td>1.0</td>\n",
       "      <td>0.0</td>\n",
       "      <td>0.0</td>\n",
       "      <td>0.0</td>\n",
       "      <td>0.0</td>\n",
       "      <td>0.0</td>\n",
       "      <td>0.0</td>\n",
       "      <td>1.0</td>\n",
       "      <td>0.0</td>\n",
       "    </tr>\n",
       "    <tr>\n",
       "      <th>6322</th>\n",
       "      <td>0.010425</td>\n",
       "      <td>0.000000</td>\n",
       "      <td>0.097046</td>\n",
       "      <td>0.714286</td>\n",
       "      <td>0.444444</td>\n",
       "      <td>0.0</td>\n",
       "      <td>0.00</td>\n",
       "      <td>0.0</td>\n",
       "      <td>0.0</td>\n",
       "      <td>0.0</td>\n",
       "      <td>...</td>\n",
       "      <td>1.0</td>\n",
       "      <td>0.0</td>\n",
       "      <td>0.0</td>\n",
       "      <td>0.0</td>\n",
       "      <td>0.0</td>\n",
       "      <td>0.0</td>\n",
       "      <td>0.0</td>\n",
       "      <td>1.0</td>\n",
       "      <td>0.0</td>\n",
       "      <td>0.0</td>\n",
       "    </tr>\n",
       "    <tr>\n",
       "      <th>9516</th>\n",
       "      <td>0.007945</td>\n",
       "      <td>0.911863</td>\n",
       "      <td>0.016878</td>\n",
       "      <td>0.000000</td>\n",
       "      <td>0.505051</td>\n",
       "      <td>0.0</td>\n",
       "      <td>0.00</td>\n",
       "      <td>1.0</td>\n",
       "      <td>0.0</td>\n",
       "      <td>1.0</td>\n",
       "      <td>...</td>\n",
       "      <td>1.0</td>\n",
       "      <td>0.0</td>\n",
       "      <td>0.0</td>\n",
       "      <td>0.0</td>\n",
       "      <td>0.0</td>\n",
       "      <td>0.0</td>\n",
       "      <td>1.0</td>\n",
       "      <td>1.0</td>\n",
       "      <td>0.0</td>\n",
       "      <td>1.0</td>\n",
       "    </tr>\n",
       "    <tr>\n",
       "      <th>2393</th>\n",
       "      <td>0.110544</td>\n",
       "      <td>0.585291</td>\n",
       "      <td>0.316456</td>\n",
       "      <td>0.485714</td>\n",
       "      <td>0.090909</td>\n",
       "      <td>0.0</td>\n",
       "      <td>0.25</td>\n",
       "      <td>0.0</td>\n",
       "      <td>0.0</td>\n",
       "      <td>0.0</td>\n",
       "      <td>...</td>\n",
       "      <td>0.0</td>\n",
       "      <td>0.0</td>\n",
       "      <td>0.0</td>\n",
       "      <td>0.0</td>\n",
       "      <td>1.0</td>\n",
       "      <td>0.0</td>\n",
       "      <td>0.0</td>\n",
       "      <td>1.0</td>\n",
       "      <td>0.0</td>\n",
       "      <td>0.0</td>\n",
       "    </tr>\n",
       "  </tbody>\n",
       "</table>\n",
       "<p>5 rows × 53 columns</p>\n",
       "</div>"
      ],
      "text/plain": [
       "      customer lifetime value    income  monthly premium auto  \\\n",
       "7272                 0.038995  0.577200              0.270042   \n",
       "4104                 0.011243  0.504066              0.037975   \n",
       "6322                 0.010425  0.000000              0.097046   \n",
       "9516                 0.007945  0.911863              0.016878   \n",
       "2393                 0.110544  0.585291              0.316456   \n",
       "\n",
       "      months since last claim  months since policy inception  \\\n",
       "7272                 0.285714                       0.262626   \n",
       "4104                 0.971429                       0.777778   \n",
       "6322                 0.714286                       0.444444   \n",
       "9516                 0.000000                       0.505051   \n",
       "2393                 0.485714                       0.090909   \n",
       "\n",
       "      number of open complaints  number of policies  month  response rate  \\\n",
       "7272                        0.0                0.00    0.0            1.0   \n",
       "4104                        0.0                0.00    0.0            0.0   \n",
       "6322                        0.0                0.00    0.0            0.0   \n",
       "9516                        0.0                0.00    1.0            0.0   \n",
       "2393                        0.0                0.25    0.0            0.0   \n",
       "\n",
       "      state_California  ...  sales channel_Call Center  sales channel_Web  \\\n",
       "7272               0.0  ...                        0.0                0.0   \n",
       "4104               0.0  ...                        0.0                1.0   \n",
       "6322               0.0  ...                        1.0                0.0   \n",
       "9516               1.0  ...                        1.0                0.0   \n",
       "2393               0.0  ...                        0.0                0.0   \n",
       "\n",
       "      vehicle class_Luxury Car  vehicle class_Luxury SUV  vehicle class_SUV  \\\n",
       "7272                       0.0                       0.0                1.0   \n",
       "4104                       0.0                       0.0                0.0   \n",
       "6322                       0.0                       0.0                0.0   \n",
       "9516                       0.0                       0.0                0.0   \n",
       "2393                       0.0                       0.0                1.0   \n",
       "\n",
       "      vehicle class_Sports Car  vehicle class_Two-Door Car  \\\n",
       "7272                       0.0                         0.0   \n",
       "4104                       0.0                         0.0   \n",
       "6322                       0.0                         0.0   \n",
       "9516                       0.0                         1.0   \n",
       "2393                       0.0                         0.0   \n",
       "\n",
       "      vehicle size_Medsize  vehicle size_Small  vehicle type_M  \n",
       "7272                   1.0                 0.0             1.0  \n",
       "4104                   0.0                 1.0             0.0  \n",
       "6322                   1.0                 0.0             0.0  \n",
       "9516                   1.0                 0.0             1.0  \n",
       "2393                   1.0                 0.0             0.0  \n",
       "\n",
       "[5 rows x 53 columns]"
      ]
     },
     "execution_count": 169,
     "metadata": {},
     "output_type": "execute_result"
    }
   ],
   "source": [
    "X_train.head()"
   ]
  },
  {
   "cell_type": "code",
   "execution_count": 170,
   "id": "22785d89",
   "metadata": {},
   "outputs": [
    {
     "data": {
      "text/plain": [
       "LinearRegression()"
      ]
     },
     "execution_count": 170,
     "metadata": {},
     "output_type": "execute_result"
    }
   ],
   "source": [
    "from sklearn import linear_model\n",
    "lm = linear_model.LinearRegression()\n",
    "lm.fit(X_train,y_train)"
   ]
  },
  {
   "cell_type": "code",
   "execution_count": 171,
   "id": "0e6b366e",
   "metadata": {},
   "outputs": [
    {
     "data": {
      "text/plain": [
       "0.768441717516594"
      ]
     },
     "execution_count": 171,
     "metadata": {},
     "output_type": "execute_result"
    }
   ],
   "source": [
    "from sklearn.metrics import r2_score\n",
    "predictions = lm.predict(X_train)\n",
    "r2_score(y_train, predictions)"
   ]
  },
  {
   "cell_type": "code",
   "execution_count": 172,
   "id": "29cd0db1",
   "metadata": {},
   "outputs": [
    {
     "data": {
      "text/plain": [
       "0.7783501895848772"
      ]
     },
     "execution_count": 172,
     "metadata": {},
     "output_type": "execute_result"
    }
   ],
   "source": [
    "predictions_test = lm.predict(X_test)\n",
    "r2_score(y_test, predictions_test)"
   ]
  },
  {
   "cell_type": "code",
   "execution_count": 173,
   "id": "b33c55c8",
   "metadata": {},
   "outputs": [
    {
     "data": {
      "text/plain": [
       "285      590.400000\n",
       "10696    350.400000\n",
       "1332     147.080303\n",
       "8934     398.735257\n",
       "10809    720.000000\n",
       "Name: total claim amount, dtype: float64"
      ]
     },
     "execution_count": 173,
     "metadata": {},
     "output_type": "execute_result"
    }
   ],
   "source": [
    "y_test[:5]"
   ]
  },
  {
   "cell_type": "code",
   "execution_count": 174,
   "id": "802dc797",
   "metadata": {},
   "outputs": [
    {
     "data": {
      "text/plain": [
       "array([655.18771358, 396.17990108,  27.87911983, 321.23458858,\n",
       "       691.91476436])"
      ]
     },
     "execution_count": 174,
     "metadata": {},
     "output_type": "execute_result"
    }
   ],
   "source": [
    "predictions_test[:5]"
   ]
  },
  {
   "cell_type": "code",
   "execution_count": 175,
   "id": "e5270332",
   "metadata": {},
   "outputs": [
    {
     "data": {
      "text/plain": [
       "19853.334004272212"
      ]
     },
     "execution_count": 175,
     "metadata": {},
     "output_type": "execute_result"
    }
   ],
   "source": [
    "from sklearn.metrics import mean_squared_error\n",
    "mse=mean_squared_error(y_test,predictions_test)\n",
    "mse"
   ]
  },
  {
   "cell_type": "code",
   "execution_count": 176,
   "id": "c7e997a0",
   "metadata": {},
   "outputs": [
    {
     "data": {
      "text/plain": [
       "140.90185947769538"
      ]
     },
     "execution_count": 176,
     "metadata": {},
     "output_type": "execute_result"
    }
   ],
   "source": [
    "rmse = np.sqrt(mean_squared_error(y_test,predictions_test))\n",
    "rmse"
   ]
  },
  {
   "cell_type": "code",
   "execution_count": 177,
   "id": "f27b7967",
   "metadata": {},
   "outputs": [
    {
     "name": "stdout",
     "output_type": "stream",
     "text": [
      "96.78337653034306\n"
     ]
    }
   ],
   "source": [
    "from sklearn.metrics import mean_absolute_error, r2_score\n",
    "mae = mean_absolute_error(y_test, predictions_test)\n",
    "print(mae)"
   ]
  },
  {
   "cell_type": "markdown",
   "id": "6ad0662e",
   "metadata": {},
   "source": [
    "# Round 7"
   ]
  },
  {
   "cell_type": "code",
   "execution_count": 191,
   "id": "03d92359",
   "metadata": {},
   "outputs": [
    {
     "name": "stdout",
     "output_type": "stream",
     "text": [
      "(10910, 9)\n"
     ]
    }
   ],
   "source": [
    "from sklearn.preprocessing import StandardScaler\n",
    "transformer1 = StandardScaler().fit(X_num)\n",
    "x_standardized1 = transformer.transform(X_num)\n",
    "print(x_standardized1.shape)\n",
    "x_standardized1 = pd.DataFrame(x_standardized1, columns=X_num.columns)"
   ]
  },
  {
   "cell_type": "code",
   "execution_count": 192,
   "id": "0105fc1f",
   "metadata": {},
   "outputs": [],
   "source": [
    "X1 = pd.concat([x_standardized1, X_cat_encode], axis=1)"
   ]
  },
  {
   "cell_type": "code",
   "execution_count": 193,
   "id": "ee83042c",
   "metadata": {},
   "outputs": [],
   "source": [
    "X1train, X1test, y1train, y1test = train_test_split(X1, y, test_size=0.2)"
   ]
  },
  {
   "cell_type": "code",
   "execution_count": 194,
   "id": "64d9d1d4",
   "metadata": {},
   "outputs": [
    {
     "data": {
      "text/plain": [
       "LinearRegression()"
      ]
     },
     "execution_count": 194,
     "metadata": {},
     "output_type": "execute_result"
    }
   ],
   "source": [
    "lm1 = linear_model.LinearRegression()\n",
    "lm.fit(X1train,y1train)"
   ]
  },
  {
   "cell_type": "code",
   "execution_count": 195,
   "id": "926a80d3",
   "metadata": {},
   "outputs": [
    {
     "data": {
      "text/plain": [
       "0.7722210833757901"
      ]
     },
     "execution_count": 195,
     "metadata": {},
     "output_type": "execute_result"
    }
   ],
   "source": [
    "predictions1 = lm.predict(X1train)\n",
    "r2_score(y1train, predictions1)"
   ]
  },
  {
   "cell_type": "code",
   "execution_count": 196,
   "id": "634cfb0e",
   "metadata": {},
   "outputs": [
    {
     "data": {
      "text/plain": [
       "0.762994454971554"
      ]
     },
     "execution_count": 196,
     "metadata": {},
     "output_type": "execute_result"
    }
   ],
   "source": [
    "predictions_test1 = lm.predict(X1test)\n",
    "r2_score(y1test, predictions_test1)"
   ]
  },
  {
   "cell_type": "code",
   "execution_count": 197,
   "id": "2ab1f66c",
   "metadata": {},
   "outputs": [
    {
     "data": {
      "text/plain": [
       "19506.75204138087"
      ]
     },
     "execution_count": 197,
     "metadata": {},
     "output_type": "execute_result"
    }
   ],
   "source": [
    "mse1=mean_squared_error(y1test,predictions_test1)\n",
    "mse1"
   ]
  },
  {
   "cell_type": "code",
   "execution_count": 198,
   "id": "4d44ec27",
   "metadata": {},
   "outputs": [
    {
     "data": {
      "text/plain": [
       "139.6665745315638"
      ]
     },
     "execution_count": 198,
     "metadata": {},
     "output_type": "execute_result"
    }
   ],
   "source": [
    "rmse1 = np.sqrt(mean_squared_error(y1test,predictions_test1))\n",
    "rmse1"
   ]
  },
  {
   "cell_type": "code",
   "execution_count": 199,
   "id": "8835ca53",
   "metadata": {},
   "outputs": [
    {
     "name": "stdout",
     "output_type": "stream",
     "text": [
      "96.706222686154\n"
     ]
    }
   ],
   "source": [
    "mae1 = mean_absolute_error(y1test, predictions_test1)\n",
    "print(mae1)"
   ]
  },
  {
   "cell_type": "code",
   "execution_count": null,
   "id": "8678a00b",
   "metadata": {},
   "outputs": [],
   "source": [
    "# Use a different method of scaling isn´t improving the regression model"
   ]
  },
  {
   "cell_type": "markdown",
   "id": "3c52a8f7",
   "metadata": {},
   "source": [
    "-------------------------------"
   ]
  },
  {
   "cell_type": "code",
   "execution_count": 202,
   "id": "586b326f",
   "metadata": {},
   "outputs": [],
   "source": [
    "X2 = pd.concat([x_normalized, X_cat_encode], axis=1)"
   ]
  },
  {
   "cell_type": "code",
   "execution_count": 203,
   "id": "87be7479",
   "metadata": {},
   "outputs": [],
   "source": [
    "X2train, X2test, y2train, y2test = train_test_split(X2, y, test_size=0.3)"
   ]
  },
  {
   "cell_type": "code",
   "execution_count": 204,
   "id": "2d73560e",
   "metadata": {},
   "outputs": [
    {
     "data": {
      "text/plain": [
       "LinearRegression()"
      ]
     },
     "execution_count": 204,
     "metadata": {},
     "output_type": "execute_result"
    }
   ],
   "source": [
    "lm2 = linear_model.LinearRegression()\n",
    "lm.fit(X2train,y2train)"
   ]
  },
  {
   "cell_type": "code",
   "execution_count": 205,
   "id": "426af7c1",
   "metadata": {},
   "outputs": [
    {
     "data": {
      "text/plain": [
       "0.7674390848493153"
      ]
     },
     "execution_count": 205,
     "metadata": {},
     "output_type": "execute_result"
    }
   ],
   "source": [
    "predictions2 = lm.predict(X2train)\n",
    "r2_score(y2train, predictions2)"
   ]
  },
  {
   "cell_type": "code",
   "execution_count": 206,
   "id": "8ac2b420",
   "metadata": {},
   "outputs": [
    {
     "data": {
      "text/plain": [
       "0.7698363702750453"
      ]
     },
     "execution_count": 206,
     "metadata": {},
     "output_type": "execute_result"
    }
   ],
   "source": [
    "predictions_test2 = lm.predict(X2test)\n",
    "r2_score(y2test, predictions_test2)"
   ]
  },
  {
   "cell_type": "code",
   "execution_count": 207,
   "id": "519e2d69",
   "metadata": {},
   "outputs": [
    {
     "data": {
      "text/plain": [
       "20070.722209924807"
      ]
     },
     "execution_count": 207,
     "metadata": {},
     "output_type": "execute_result"
    }
   ],
   "source": [
    "mse2=mean_squared_error(y2test,predictions_test2)\n",
    "mse2"
   ]
  },
  {
   "cell_type": "code",
   "execution_count": 209,
   "id": "c8f78337",
   "metadata": {},
   "outputs": [
    {
     "data": {
      "text/plain": [
       "141.6711763554069"
      ]
     },
     "execution_count": 209,
     "metadata": {},
     "output_type": "execute_result"
    }
   ],
   "source": [
    "rmse2 = np.sqrt(mean_squared_error(y2test,predictions_test2))\n",
    "rmse2"
   ]
  },
  {
   "cell_type": "code",
   "execution_count": 210,
   "id": "cd1d5ecc",
   "metadata": {},
   "outputs": [
    {
     "data": {
      "text/plain": [
       "97.46085679065067"
      ]
     },
     "execution_count": 210,
     "metadata": {},
     "output_type": "execute_result"
    }
   ],
   "source": [
    "mae2 = mean_absolute_error(y2test, predictions_test2)\n",
    "mae2"
   ]
  },
  {
   "cell_type": "code",
   "execution_count": null,
   "id": "5f56f772",
   "metadata": {},
   "outputs": [],
   "source": [
    "# this method makes the model worse"
   ]
  }
 ],
 "metadata": {
  "kernelspec": {
   "display_name": "Python 3 (ipykernel)",
   "language": "python",
   "name": "python3"
  },
  "language_info": {
   "codemirror_mode": {
    "name": "ipython",
    "version": 3
   },
   "file_extension": ".py",
   "mimetype": "text/x-python",
   "name": "python",
   "nbconvert_exporter": "python",
   "pygments_lexer": "ipython3",
   "version": "3.9.13"
  }
 },
 "nbformat": 4,
 "nbformat_minor": 5
}
